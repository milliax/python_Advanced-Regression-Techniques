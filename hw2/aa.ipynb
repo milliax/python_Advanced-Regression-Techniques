{
 "cells": [
  {
   "cell_type": "code",
   "execution_count": 41,
   "metadata": {},
   "outputs": [
    {
     "name": "stdout",
     "output_type": "stream",
     "text": [
      "        match_id  duration        version\n",
      "0             10      1909  7.10.187.9675\n",
      "1             11      1693  7.10.187.9675\n",
      "2             12      1482  7.10.187.9675\n",
      "3             13      1954  7.10.187.9675\n",
      "4             14      2067  7.10.187.9675\n",
      "...          ...       ...            ...\n",
      "182522    187584      1399     5.23.0.250\n",
      "182523    187585      1172     5.23.0.250\n",
      "182524    187586      2027     5.23.0.250\n",
      "182525    187587      2761     5.20.0.291\n",
      "182526    187588      2534     5.20.0.291\n",
      "\n",
      "[182527 rows x 3 columns]\n"
     ]
    }
   ],
   "source": [
    "import pandas as pd\n",
    "\n",
    "matches_df = pd.read_csv(\"matches.csv\")\n",
    "\n",
    "print(matches_df)"
   ]
  },
  {
   "cell_type": "code",
   "execution_count": 42,
   "metadata": {},
   "outputs": [
    {
     "name": "stdout",
     "output_type": "stream",
     "text": [
      "74\n"
     ]
    }
   ],
   "source": [
    "ver = matches_df[\"version\"].values.tolist()\n",
    "ver = [i.split(\".\")[0:2] for i in ver]\n",
    "ver = [(i[0], i[1]) for i in ver]\n",
    "print(len(set(ver)))\n"
   ]
  }
 ],
 "metadata": {
  "kernelspec": {
   "display_name": "hw2",
   "language": "python",
   "name": "python3"
  },
  "language_info": {
   "codemirror_mode": {
    "name": "ipython",
    "version": 3
   },
   "file_extension": ".py",
   "mimetype": "text/x-python",
   "name": "python",
   "nbconvert_exporter": "python",
   "pygments_lexer": "ipython3",
   "version": "3.11.5"
  }
 },
 "nbformat": 4,
 "nbformat_minor": 2
}
