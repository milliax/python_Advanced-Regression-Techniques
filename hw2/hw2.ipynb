{
 "cells": [
  {
   "cell_type": "code",
   "execution_count": 338,
   "metadata": {},
   "outputs": [],
   "source": [
    "import pandas as pd\n",
    "import numpy as np\n",
    "from sklearn.model_selection import train_test_split\n",
    "from sklearn.preprocessing import StandardScaler\n",
    "from sklearn.linear_model import SGDRegressor\n",
    "from sklearn.metrics import mean_squared_error\n",
    "from tqdm import tqdm\n",
    "import seaborn as sns\n",
    "import matplotlib.pyplot as plt"
   ]
  },
  {
   "cell_type": "code",
   "execution_count": 339,
   "metadata": {},
   "outputs": [],
   "source": [
    "train_data_path = \"./train.csv\"\n",
    "predict_data_path = \"./test.csv\"\n",
    "\n",
    "train_df = pd.read_csv(train_data_path)\n",
    "predict_df = pd.read_csv(predict_data_path)\n"
   ]
  },
  {
   "cell_type": "code",
   "execution_count": 340,
   "metadata": {},
   "outputs": [],
   "source": [
    "#tell apart continuous data and dsicrete data\n",
    "continuous_columns = [\"Id\", \"LotFrontage\", \"LotArea\", \"MasVnrArea\", \"BsmtFinSF1\", \"BsmtFinSF2\", \"BsmtUnfSF\" , \"TotalBsmtSF\", \"1stFlrSF\", \"2ndFlrSF\", \"LowQualFinSF\", \"GrLivArea\", \"BsmtFullBath\", \"BsmtHalfBath\", \"FullBath\", \"HalfBath\", \"BedroomAbvGr\", \"KitchenAbvGr\", \"TotRmsAbvGrd\", \"Fireplaces\", \"GarageCars\", \"GarageArea\", \"WoodDeckSF\", \"OpenPorchSF\", \"EnclosedPorch\", \"3SsnPorch\", \"ScreenPorch\", \"PoolArea\", \"MiscVal\", \"YearBuilt\", \"YearRemodAdd\", \"GarageYrBlt\", \"SalePrice\"]\n",
    "discrete_columns = []\n",
    "Id_for_ans = predict_df[\"Id\"].values.tolist()\n",
    "for i in train_df.columns.values.tolist():\n",
    "    if (i in continuous_columns)==False:\n",
    "        discrete_columns.append(i)"
   ]
  },
  {
   "cell_type": "code",
   "execution_count": 341,
   "metadata": {},
   "outputs": [],
   "source": [
    "#find out the columns that consist of more than half NANs\n",
    "number_of_data = train_df.shape[0]\n",
    "number_of_nan = train_df.isna().sum().to_dict()\n",
    "drop_columns = []\n",
    "for i in number_of_nan:\n",
    "    if number_of_nan[i]>=number_of_data/2:\n",
    "        drop_columns.append(i)\n",
    "\n",
    "for i in drop_columns:\n",
    "    if i in continuous_columns:\n",
    "        continuous_columns.remove(i)\n",
    "    else:\n",
    "        discrete_columns.remove(i)"
   ]
  },
  {
   "cell_type": "code",
   "execution_count": 342,
   "metadata": {},
   "outputs": [],
   "source": [
    "#the final columns that I want to use\n",
    "select_columns = []"
   ]
  },
  {
   "cell_type": "code",
   "execution_count": 343,
   "metadata": {},
   "outputs": [],
   "source": [
    "#計算連續型資料的相關係數\n",
    "continuous_df = train_df[continuous_columns]\n",
    "corr = continuous_df.corr().values.tolist()\n",
    "for i, j in zip(continuous_df.columns.values.tolist(), corr[-1]):\n",
    "    if j>=0.6 and i!=\"SalePrice\":\n",
    "        select_columns.append(i)"
   ]
  },
  {
   "cell_type": "code",
   "execution_count": 345,
   "metadata": {},
   "outputs": [
    {
     "data": {
      "text/plain": [
       "'\\nprint(select_columns)\\nfor i in select_columns:\\n    x = [train_df[i]]\\n    y = train_df[\"SalePrice\"]\\n    plt.title(i+\" vs SalePrice\")\\n    plt.xlabel = i\\n    plt.ylabel = \"SalePrice\"\\n    plt.scatter(x, y)\\n    plt.show()\\n'"
      ]
     },
     "execution_count": 345,
     "metadata": {},
     "output_type": "execute_result"
    }
   ],
   "source": [
    "'''\n",
    "print(select_columns)\n",
    "for i in select_columns:\n",
    "    x = [train_df[i]]\n",
    "    y = train_df[\"SalePrice\"]\n",
    "    plt.title(i+\" vs SalePrice\")\n",
    "    plt.xlabel = i\n",
    "    plt.ylabel = \"SalePrice\"\n",
    "    plt.scatter(x, y)\n",
    "    plt.show()\n",
    "'''"
   ]
  },
  {
   "cell_type": "code",
   "execution_count": 346,
   "metadata": {},
   "outputs": [],
   "source": [
    "train_df = train_df[train_df[\"TotalBsmtSF\"]<=2900]\n",
    "train_df = train_df[train_df[\"1stFlrSF\"]<=2500]\n",
    "train_df = train_df[train_df[\"GrLivArea\"]<=3600]\n",
    "train_df = train_df[train_df[\"GarageArea\"]<=1200]\n",
    "select_columns.remove(\"GarageCars\")"
   ]
  },
  {
   "cell_type": "code",
   "execution_count": 347,
   "metadata": {},
   "outputs": [
    {
     "data": {
      "text/plain": [
       "'\\nfor i in discrete_columns:\\n    #x = train_df[i]\\n    #y = train_df[\"SalePrice\"]\\n    x = train_df[i].unique().tolist()\\n    #print(x)\\n    y = [train_df[train_df[i]==j][\"SalePrice\"].mean() for j in x]\\n    #print(y)\\n    plt.title(i+\" vs SalePrice\")\\n    plt.xlabel = i\\n    plt.ylabel = \"SalePrice\"\\n    plt.bar([str(k) for k in x], y)\\n    plt.show()\\n'"
      ]
     },
     "execution_count": 347,
     "metadata": {},
     "output_type": "execute_result"
    }
   ],
   "source": [
    "'''\n",
    "for i in discrete_columns:\n",
    "    #x = train_df[i]\n",
    "    #y = train_df[\"SalePrice\"]\n",
    "    x = train_df[i].unique().tolist()\n",
    "    #print(x)\n",
    "    y = [train_df[train_df[i]==j][\"SalePrice\"].mean() for j in x]\n",
    "    #print(y)\n",
    "    plt.title(i+\" vs SalePrice\")\n",
    "    plt.xlabel = i\n",
    "    plt.ylabel = \"SalePrice\"\n",
    "    plt.bar([str(k) for k in x], y)\n",
    "    plt.show()\n",
    "'''"
   ]
  },
  {
   "cell_type": "code",
   "execution_count": 348,
   "metadata": {},
   "outputs": [
    {
     "name": "stdout",
     "output_type": "stream",
     "text": [
      "['TotalBsmtSF', '1stFlrSF', 'GrLivArea', 'GarageArea', 'BsmtFinType2_ALQ', 'BsmtFinType2_BLQ', 'BsmtFinType2_GLQ', 'BsmtFinType2_LwQ', 'BsmtFinType2_Rec', 'BsmtFinType2_Unf', 'BsmtQual_Ex', 'BsmtQual_Fa', 'BsmtQual_Gd', 'BsmtQual_TA', 'GarageCond_Ex', 'GarageCond_Fa', 'GarageCond_Gd', 'GarageCond_Po', 'GarageCond_TA', 'GarageQual_Ex', 'GarageQual_Fa', 'GarageQual_Gd', 'GarageQual_Po', 'GarageQual_TA', 'GarageFinish_Fin', 'GarageFinish_RFn', 'GarageFinish_Unf', 'GarageType_2Types', 'GarageType_Attchd', 'GarageType_Basment', 'GarageType_BuiltIn', 'GarageType_CarPort', 'GarageType_Detchd', 'FireplaceQu_Ex', 'FireplaceQu_Fa', 'FireplaceQu_Gd', 'FireplaceQu_Po', 'FireplaceQu_TA', 'BsmtCond_Fa', 'BsmtCond_Gd', 'BsmtCond_Po', 'BsmtCond_TA', 'Electrical_FuseA', 'Electrical_FuseF', 'Electrical_FuseP', 'Electrical_Mix', 'Electrical_SBrkr', 'BsmtExposure_Av', 'BsmtExposure_Gd', 'BsmtExposure_Mn', 'BsmtExposure_No']\n"
     ]
    }
   ],
   "source": [
    "\n",
    "all_std = []\n",
    "discrete_select_columns = []\n",
    "for i in discrete_columns:\n",
    "    x = train_df[i].unique().tolist()\n",
    "    y = [train_df[train_df[i]==j][\"SalePrice\"].mean() for j in x]\n",
    "    s = np.std(y)\n",
    "    all_std.append(s)\n",
    "\n",
    "arg = np.argsort(all_std)\n",
    "for i in range(10):\n",
    "    discrete_select_columns.append(discrete_columns[arg[len(arg)-i-1]])\n",
    "\n",
    "discrete_df = train_df[discrete_select_columns]\n",
    "for i in discrete_select_columns:\n",
    "    one_hot = pd.get_dummies(discrete_df[i])\n",
    "    rename_dic = {}\n",
    "    for j in one_hot.columns.values.tolist():\n",
    "        rename_dic[j] = str(i)+\"_\"+str(j)\n",
    "    one_hot = one_hot.rename(columns=rename_dic)\n",
    "    discrete_df = discrete_df.drop(i, axis=1)\n",
    "    discrete_df = discrete_df.join(one_hot)\n",
    "\n",
    "select_columns = select_columns + discrete_df.columns.values.tolist()\n",
    "print(select_columns)\n"
   ]
  },
  {
   "cell_type": "code",
   "execution_count": 349,
   "metadata": {},
   "outputs": [
    {
     "data": {
      "text/plain": [
       "'\\ndiscrete_df = train_df[discrete_columns]\\nfor i in discrete_columns:\\n    one_hot = pd.get_dummies(discrete_df[i])\\n    rename_dic = {}\\n    for j in one_hot.columns.values.tolist():\\n        rename_dic[j] = str(i)+\"_\"+str(j)\\n    one_hot = one_hot.rename(columns=rename_dic)\\n    discrete_df = discrete_df.drop(i, axis=1)\\n    discrete_df = discrete_df.join(one_hot)\\n\\ndiscrete_df.replace(True, 1, inplace=True)\\ndiscrete_df.replace(False, 0, inplace=True)\\n\\ndiscrete_df = discrete_df.join(train_df[\"SalePrice\"])\\n\\ncorr = discrete_df.corr().values.tolist()\\nfor i, j in zip(discrete_df.columns.values.tolist(), corr[-1]):\\n    if np.abs(j)>=0.2 and i!=\"SalePrice\":\\n        select_columns.append(i)\\n        print(i+\" : \"+str(j))\\n\\n'"
      ]
     },
     "execution_count": 349,
     "metadata": {},
     "output_type": "execute_result"
    }
   ],
   "source": [
    "#計算離散型資料 \n",
    "'''\n",
    "discrete_df = train_df[discrete_columns]\n",
    "for i in discrete_columns:\n",
    "    one_hot = pd.get_dummies(discrete_df[i])\n",
    "    rename_dic = {}\n",
    "    for j in one_hot.columns.values.tolist():\n",
    "        rename_dic[j] = str(i)+\"_\"+str(j)\n",
    "    one_hot = one_hot.rename(columns=rename_dic)\n",
    "    discrete_df = discrete_df.drop(i, axis=1)\n",
    "    discrete_df = discrete_df.join(one_hot)\n",
    "\n",
    "discrete_df.replace(True, 1, inplace=True)\n",
    "discrete_df.replace(False, 0, inplace=True)\n",
    "\n",
    "discrete_df = discrete_df.join(train_df[\"SalePrice\"])\n",
    "\n",
    "corr = discrete_df.corr().values.tolist()\n",
    "for i, j in zip(discrete_df.columns.values.tolist(), corr[-1]):\n",
    "    if np.abs(j)>=0.2 and i!=\"SalePrice\":\n",
    "        select_columns.append(i)\n",
    "        print(i+\" : \"+str(j))\n",
    "\n",
    "'''"
   ]
  },
  {
   "cell_type": "code",
   "execution_count": 350,
   "metadata": {},
   "outputs": [],
   "source": [
    "for i in discrete_select_columns:\n",
    "    one_hot = pd.get_dummies(train_df[i])\n",
    "    rename_dic = {}\n",
    "    for j in one_hot.columns.values.tolist():\n",
    "        rename_dic[j] = str(i)+\"_\"+str(j)\n",
    "    one_hot = one_hot.rename(columns=rename_dic)\n",
    "    train_df = train_df.drop(i, axis=1)\n",
    "    train_df = train_df.join(one_hot)\n",
    "\n",
    "train_df = train_df[select_columns+[\"SalePrice\"]]"
   ]
  },
  {
   "cell_type": "code",
   "execution_count": 351,
   "metadata": {},
   "outputs": [],
   "source": [
    "def write_ans(predict_target):\n",
    "    #write the result into ans.csv\n",
    "    ansDict = {\n",
    "        \"Id\" : Id_for_ans,\n",
    "        \"SalePrice\" : predict_target\n",
    "    }\n",
    "    ansDf = pd.DataFrame(ansDict)\n",
    "    ansDf.to_csv(\"ans.csv\", index=False)"
   ]
  },
  {
   "cell_type": "code",
   "execution_count": 352,
   "metadata": {},
   "outputs": [],
   "source": [
    "def data_split(train_df, select_columns):\n",
    "    #split 20% of the train data to test data\n",
    "    train_label = train_df[select_columns].values\n",
    "    train_target = train_df[\"SalePrice\"].values\n",
    "    x_train, x_test, y_train, y_test = train_test_split(train_label, train_target, test_size=0.2)\n",
    "    return x_train, x_test, y_train, y_test"
   ]
  },
  {
   "cell_type": "code",
   "execution_count": 353,
   "metadata": {},
   "outputs": [],
   "source": [
    "def build_test_module(train_df, select_columns):\n",
    "    x_train, x_test, y_train, y_test = data_split(train_df, select_columns)\n",
    "\n",
    "    #build a gradient descent module and test whether the columns we choose is good enough\n",
    "    std = StandardScaler()\n",
    "\n",
    "    x_train = std.fit_transform(x_train)\n",
    "    x_test = std.fit_transform(x_test)\n",
    "\n",
    "    sgd = SGDRegressor()\n",
    "\n",
    "    sgd.fit(x_train, y_train)\n",
    "    sgd_pre = sgd.predict(x_test)\n",
    "\n",
    "    sgd_mean_square = mean_squared_error(y_test, sgd_pre)\n",
    "\n",
    "    return sgd_mean_square, std, sgd"
   ]
  },
  {
   "cell_type": "code",
   "execution_count": 354,
   "metadata": {},
   "outputs": [],
   "source": [
    "def build_module(train_df, select_columns):\n",
    "\n",
    "    #x_train, x_test, y_train, y_test = data_split(train_df, select_columns)\n",
    "\n",
    "    x_train = train_df[select_columns].values\n",
    "    y_train = train_df[\"SalePrice\"].values\n",
    "\n",
    "    #build a gradient descent module and test whether the columns we choose is good enough\n",
    "    std = StandardScaler()\n",
    "\n",
    "    x_train = std.fit_transform(x_train)\n",
    "    #x_test = std.fit_transform(x_test)\n",
    "\n",
    "    sgd = SGDRegressor()\n",
    "\n",
    "    sgd.fit(x_train, y_train)\n",
    "    #sgd_pre = sgd.predict(x_test)\n",
    "\n",
    "    #sgd_mean_square = mean_squared_error(y_test, sgd_pre)\n",
    "\n",
    "\n",
    "    return std, sgd\n",
    "\n",
    "    #0.4 : 612480768.8626099\n",
    "    #0.2 : 530552347.7190159\n",
    "    #0.1 : 454339807.24334556\n",
    "    #0.05 : 433638264.14439946"
   ]
  },
  {
   "cell_type": "code",
   "execution_count": 355,
   "metadata": {},
   "outputs": [],
   "source": [
    "def predict(std, sgd, predict_df):\n",
    "    predict_df_columns = predict_df.columns.values.tolist()\n",
    "    #assume that the module is good enough, predict the data in test.csv with the module\n",
    "    for i in discrete_select_columns:\n",
    "        one_hot = pd.get_dummies(predict_df[i])\n",
    "        rename_dic = {}\n",
    "        for j in one_hot.columns.values.tolist():\n",
    "            rename_dic[j] = str(i)+\"_\"+str(j)\n",
    "        one_hot = one_hot.rename(columns=rename_dic)\n",
    "        predict_df = predict_df.drop(i, axis=1)\n",
    "        predict_df = predict_df.join(one_hot)\n",
    "\n",
    "    for i in select_columns:\n",
    "        if (i in predict_df_columns)==False:\n",
    "            predict_df[i] = [0 for j in range(predict_df.shape[0])]\n",
    "    \n",
    "    predict_df = predict_df[select_columns]\n",
    "    predict_df.replace(True, 1, inplace=True)\n",
    "    predict_df.replace(False, 0, inplace=True)\n",
    "\n",
    "    for i in predict_df.columns.values.tolist():\n",
    "        predict_df[i] = predict_df[i].fillna(predict_df[i].mean())\n",
    "\n",
    "\n",
    "    predict_label = predict_df.values\n",
    "    predict_label = std.fit_transform(predict_label)\n",
    "\n",
    "    predict_target = sgd.predict(predict_label)\n",
    "    return predict_target"
   ]
  },
  {
   "cell_type": "code",
   "execution_count": 356,
   "metadata": {},
   "outputs": [
    {
     "name": "stderr",
     "output_type": "stream",
     "text": [
      "predicting 1: 100%|██████████████████████████████████████████████| 100/100 [00:00<00:00, 100.53it/s]"
     ]
    },
    {
     "name": "stdout",
     "output_type": "stream",
     "text": [
      "梯度下降得到的均方误差值:  799875961.7820473\n",
      "max : 799875961.7820473\n",
      "min : 799875961.7820473\n",
      "avg : 799875961.7820473\n"
     ]
    },
    {
     "name": "stderr",
     "output_type": "stream",
     "text": [
      "\n"
     ]
    }
   ],
   "source": [
    "all_min_sqd_mean_square = []\n",
    "for t in range(1):\n",
    "    min_sgd_mean_square, min_std, min_sgd = build_test_module(train_df, select_columns)\n",
    "    for i in tqdm(range(100), desc=\"predicting \"+str(t+1), ncols=100):\n",
    "        sgd_mean_square, std, sgd = build_test_module(train_df, select_columns)\n",
    "        if sgd_mean_square<min_sgd_mean_square:\n",
    "            min_sgd_mean_square = sgd_mean_square\n",
    "            min_std = std\n",
    "            min_sgd = sgd\n",
    "    all_min_sqd_mean_square.append(min_sgd_mean_square)\n",
    "    #predict_target = predict(min_std, min_sgd, predict_df)\n",
    "    #write_ans(predict_target)\n",
    "    print(\"梯度下降得到的均方误差值: \", min_sgd_mean_square)\n",
    "\n",
    "print(\"max : {0}\".format(max(all_min_sqd_mean_square))) \n",
    "print(\"min : {0}\".format(min(all_min_sqd_mean_square)))\n",
    "print(\"avg : {0}\".format(np.mean(all_min_sqd_mean_square)))"
   ]
  },
  {
   "cell_type": "code",
   "execution_count": 357,
   "metadata": {},
   "outputs": [],
   "source": [
    "std, sgd = build_module(train_df, select_columns)\n",
    "predict_target = predict(std, sgd, predict_df)\n",
    "write_ans(predict_target)"
   ]
  }
 ],
 "metadata": {
  "kernelspec": {
   "display_name": "hw2",
   "language": "python",
   "name": "python3"
  },
  "language_info": {
   "codemirror_mode": {
    "name": "ipython",
    "version": 3
   },
   "file_extension": ".py",
   "mimetype": "text/x-python",
   "name": "python",
   "nbconvert_exporter": "python",
   "pygments_lexer": "ipython3",
   "version": "3.11.5"
  }
 },
 "nbformat": 4,
 "nbformat_minor": 2
}
