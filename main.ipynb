{
 "cells": [
  {
   "cell_type": "code",
   "execution_count": 11,
   "metadata": {},
   "outputs": [],
   "source": [
    "\"\"\" Import data from csv file \"\"\"\n",
    "\n",
    "import pandas as pd\n",
    "import numpy as np\n",
    "\n",
    "# Import data from csv file\n",
    "df = pd.read_csv('train.csv')\n",
    "test_df = pd.read_csv('test.csv')\n",
    "\n",
    "\n",
    "# display data with plot\n",
    "# df_with_nan = df[df.isna().any(axis=1)]\n",
    "# df_with_nan.head(10)\n",
    "# drop data with too many NaN\n",
    "\n",
    "train_df = df.sample(frac=0.8, random_state=101)\n",
    "validate_df = df.drop(train_df.index)\n",
    "\n",
    "train_df_original = train_df.copy()\n",
    "validate_df_original = validate_df.copy()\n",
    "test_df_original = test_df.copy()"
   ]
  },
  {
   "cell_type": "code",
   "execution_count": 12,
   "metadata": {},
   "outputs": [
    {
     "name": "stdout",
     "output_type": "stream",
     "text": [
      "['LotFrontage', 'OverallQual', 'YearBuilt', 'YearRemodAdd', 'MasVnrArea', 'BsmtFinSF1', 'TotalBsmtSF', '1stFlrSF', '2ndFlrSF', 'GrLivArea', 'FullBath', 'TotRmsAbvGrd', 'Fireplaces', 'GarageYrBlt', 'GarageCars', 'GarageArea', 'WoodDeckSF', 'OpenPorchSF']\n",
      "['Id', 'MSSubClass', 'MSZoning', 'LotArea', 'Street', 'Alley', 'LotShape', 'LandContour', 'Utilities', 'LotConfig', 'LandSlope', 'Neighborhood', 'Condition1', 'Condition2', 'BldgType', 'HouseStyle', 'OverallCond', 'RoofStyle', 'RoofMatl', 'Exterior1st', 'Exterior2nd', 'MasVnrType', 'ExterQual', 'ExterCond', 'Foundation', 'BsmtQual', 'BsmtCond', 'BsmtExposure', 'BsmtFinType1', 'BsmtFinType2', 'BsmtFinSF2', 'BsmtUnfSF', 'Heating', 'HeatingQC', 'CentralAir', 'Electrical', 'LowQualFinSF', 'BsmtFullBath', 'BsmtHalfBath', 'HalfBath', 'BedroomAbvGr', 'KitchenAbvGr', 'KitchenQual', 'Functional', 'FireplaceQu', 'GarageType', 'GarageFinish', 'GarageQual', 'GarageCond', 'PavedDrive', 'EnclosedPorch', '3SsnPorch', 'ScreenPorch', 'PoolArea', 'PoolQC', 'Fence', 'MiscFeature', 'MiscVal', 'MoSold', 'YrSold', 'SaleType', 'SaleCondition']\n",
      "['Id', 'MSSubClass', 'MSZoning', 'LotArea', 'Street', 'Alley', 'LotShape', 'LandContour', 'Utilities', 'LotConfig', 'LandSlope', 'Neighborhood', 'Condition1', 'Condition2', 'BldgType', 'HouseStyle', 'OverallCond', 'RoofStyle', 'RoofMatl', 'Exterior1st', 'Exterior2nd', 'MasVnrType', 'ExterQual', 'ExterCond', 'Foundation', 'BsmtQual', 'BsmtCond', 'BsmtExposure', 'BsmtFinType1', 'BsmtFinType2', 'BsmtFinSF2', 'BsmtUnfSF', 'Heating', 'HeatingQC', 'CentralAir', 'Electrical', 'LowQualFinSF', 'BsmtFullBath', 'BsmtHalfBath', 'HalfBath', 'BedroomAbvGr', 'KitchenAbvGr', 'KitchenQual', 'Functional', 'FireplaceQu', 'GarageType', 'GarageFinish', 'GarageQual', 'GarageCond', 'PavedDrive', 'EnclosedPorch', '3SsnPorch', 'ScreenPorch', 'PoolArea', 'PoolQC', 'Fence', 'MiscFeature', 'MiscVal', 'MoSold', 'YrSold', 'SaleType', 'SaleCondition', 'SalePrice']\n"
     ]
    }
   ],
   "source": [
    "\"\"\" Process with data \"\"\"\n",
    "# getting correlation between each column\n",
    "\n",
    "train_df_corr = train_df.corr(numeric_only=True)\n",
    "corr_result = train_df_corr['SalePrice']\n",
    "\n",
    "tags_to_use = []\n",
    "tags_to_drop = []\n",
    "size = corr_result.size\n",
    "\n",
    "for i in range(size):\n",
    "    if ((abs(corr_result[i]) >= 0.27)):\n",
    "        if corr_result.index[i] != \"SalePrice\":\n",
    "            tags_to_use.append(corr_result.index[i])\n",
    "\n",
    "for i in train_df.columns:\n",
    "    if i == \"SalePrice\":\n",
    "        continue\n",
    "\n",
    "    if i not in tags_to_use:\n",
    "        tags_to_drop.append(i)\n",
    "    else:\n",
    "        # Replace NaN with mean value\n",
    "        train_df[i] = train_df[i].fillna(train_df[i].mean())\n",
    "        validate_df[i] = test_df[i].fillna(test_df[i].mean())\n",
    "        test_df[i] = test_df[i].fillna(test_df[i].mean())\n",
    "\n",
    "\n",
    "# train data\n",
    "tags_to_drop_with_saleprice = tags_to_drop.copy() + [\"SalePrice\"]\n",
    "\n",
    "print(tags_to_use)\n",
    "print(tags_to_drop)\n",
    "print(tags_to_drop_with_saleprice)\n",
    "\n",
    "y_train_df = train_df[\"SalePrice\"]\n",
    "train_df = train_df.drop(columns=(tags_to_drop_with_saleprice))\n",
    "y_validate_df = validate_df[\"SalePrice\"]\n",
    "validate_df = validate_df.drop(columns=(tags_to_drop_with_saleprice))\n",
    "\n",
    "# test data\n",
    "test_df = test_df.drop(columns=tags_to_drop)\n",
    "\n",
    "# Standardize data\n",
    "from sklearn.preprocessing import StandardScaler\n",
    "\n",
    "scaler = StandardScaler()\n",
    "train_df = scaler.fit_transform(train_df)\n",
    "validate_df = scaler.transform(validate_df)\n",
    "test_df = scaler.transform(test_df)\n"
   ]
  },
  {
   "cell_type": "code",
   "execution_count": 13,
   "metadata": {},
   "outputs": [
    {
     "name": "stdout",
     "output_type": "stream",
     "text": [
      "root mean square:  9650236891.34423\n"
     ]
    }
   ],
   "source": [
    "\"\"\" Train model \"\"\"\n",
    "from sklearn.metrics import mean_squared_error\n",
    "from sklearn.linear_model import LinearRegression\n",
    "\n",
    "regressor = LinearRegression()\n",
    "regressor.fit(train_df, y_train_df)\n",
    "validate_df_predict = regressor.predict(validate_df)\n",
    "\n",
    "\"\"\" Evaluate model \"\"\"\n",
    "# w_0 = regressor.intercept_\n",
    "# w_1 = regressor.coef_\n",
    "# print(\"w_0: \", w_0)\n",
    "# print(\"w_1: \", w_1)\n",
    "\n",
    "mean_square = mean_squared_error(y_validate_df, validate_df_predict)\n",
    "print(\"root mean square: \", mean_square)"
   ]
  },
  {
   "cell_type": "code",
   "execution_count": 14,
   "metadata": {},
   "outputs": [
    {
     "name": "stdout",
     "output_type": "stream",
     "text": [
      "[108226.51739506 169481.32953604 180378.87422749 ... 187835.35896125\n",
      " 107843.63969264 250987.11449111]\n",
      "[[ 0.44334852 -0.792531   -0.3505393  ...  1.18632625  0.3731689\n",
      "  -0.70683352]\n",
      " [ 0.48797748 -0.07717072 -0.44982713 ... -0.76122162  2.38750657\n",
      "  -0.18019339]\n",
      " [ 0.17557479 -0.792531    0.84091463 ...  0.0308433   0.94641914\n",
      "  -0.20945117]\n",
      " ...\n",
      " [ 4.01366494 -0.792531   -0.38363524 ...  0.46880861  3.0324131\n",
      "  -0.70683352]\n",
      " [-0.35997267 -0.792531    0.67543491 ... -2.21489371 -0.10453964\n",
      "  -0.23870896]\n",
      " [ 0.17557479  0.63818957  0.70853086 ...  0.81358981  0.77125935\n",
      "  -0.00464668]]\n"
     ]
    }
   ],
   "source": [
    "\"\"\" Predict \"\"\"\n",
    "test_df_predict = regressor.predict(test_df)\n",
    "# save the result to csv file\n",
    "dataframe_result = pd.DataFrame({'Id': test_df_original.Id, 'SalePrice': test_df_predict})\n",
    "dataframe_result.to_csv('result.csv', index=False)"
   ]
  },
  {
   "cell_type": "code",
   "execution_count": 15,
   "metadata": {},
   "outputs": [
    {
     "ename": "IndexError",
     "evalue": "only integers, slices (`:`), ellipsis (`...`), numpy.newaxis (`None`) and integer or boolean arrays are valid indices",
     "output_type": "error",
     "traceback": [
      "\u001b[0;31m---------------------------------------------------------------------------\u001b[0m",
      "\u001b[0;31mIndexError\u001b[0m                                Traceback (most recent call last)",
      "\u001b[1;32m/home/max/workspace/machine_learning/challenge2/main.ipynb Cell 5\u001b[0m line \u001b[0;36m4\n\u001b[1;32m      <a href='vscode-notebook-cell://tunnel%2B223ubuntu/home/max/workspace/machine_learning/challenge2/main.ipynb#W4sdnNjb2RlLXJlbW90ZQ%3D%3D?line=1'>2</a>\u001b[0m \u001b[39mimport\u001b[39;00m \u001b[39mmatplotlib\u001b[39;00m\u001b[39m.\u001b[39;00m\u001b[39mpyplot\u001b[39;00m \u001b[39mas\u001b[39;00m \u001b[39mplt\u001b[39;00m\n\u001b[1;32m      <a href='vscode-notebook-cell://tunnel%2B223ubuntu/home/max/workspace/machine_learning/challenge2/main.ipynb#W4sdnNjb2RlLXJlbW90ZQ%3D%3D?line=2'>3</a>\u001b[0m \u001b[39m# visualize the training set results\u001b[39;00m\n\u001b[0;32m----> <a href='vscode-notebook-cell://tunnel%2B223ubuntu/home/max/workspace/machine_learning/challenge2/main.ipynb#W4sdnNjb2RlLXJlbW90ZQ%3D%3D?line=3'>4</a>\u001b[0m plt\u001b[39m.\u001b[39mscatter(train_df[\u001b[39m\"\u001b[39;49m\u001b[39m1stFlrSF\u001b[39;49m\u001b[39m\"\u001b[39;49m], y_train_df, color \u001b[39m=\u001b[39m \u001b[39m'\u001b[39m\u001b[39mred\u001b[39m\u001b[39m'\u001b[39m)\n\u001b[1;32m      <a href='vscode-notebook-cell://tunnel%2B223ubuntu/home/max/workspace/machine_learning/challenge2/main.ipynb#W4sdnNjb2RlLXJlbW90ZQ%3D%3D?line=4'>5</a>\u001b[0m plt\u001b[39m.\u001b[39mplot(train_df[\u001b[39m\"\u001b[39m\u001b[39m1stFlrSF\u001b[39m\u001b[39m\"\u001b[39m], regressor\u001b[39m.\u001b[39mpredict(train_df), color \u001b[39m=\u001b[39m \u001b[39m'\u001b[39m\u001b[39mblue\u001b[39m\u001b[39m'\u001b[39m)\n\u001b[1;32m      <a href='vscode-notebook-cell://tunnel%2B223ubuntu/home/max/workspace/machine_learning/challenge2/main.ipynb#W4sdnNjb2RlLXJlbW90ZQ%3D%3D?line=5'>6</a>\u001b[0m plt\u001b[39m.\u001b[39mtitle(\u001b[39m'\u001b[39m\u001b[39mEnvironment vs SalesPrice (trainning set)\u001b[39m\u001b[39m'\u001b[39m)\n",
      "\u001b[0;31mIndexError\u001b[0m: only integers, slices (`:`), ellipsis (`...`), numpy.newaxis (`None`) and integer or boolean arrays are valid indices"
     ]
    }
   ],
   "source": [
    "\"\"\" Visualize \"\"\"\n",
    "import matplotlib.pyplot as plt\n",
    "# visualize the training set results\n",
    "plt.scatter(train_df[\"1stFlrSF\"], y_train_df, color = 'red')\n",
    "plt.plot(train_df[\"1stFlrSF\"], regressor.predict(train_df), color = 'blue')\n",
    "plt.title('Environment vs SalesPrice (trainning set)')\n",
    "plt.xlabel(\"Environment\")\n",
    "plt.ylabel(\"Sales Price\")\n",
    "plt.show()\n",
    "\n",
    "# visualize the test set results\n",
    "plt.scatter(test_df[\"1stFlrSF\"], y_test_df, color = 'red')\n",
    "plt.plot(test_df[\"1stFlrSF\"], regressor.predict(test_df), color = 'blue')\n",
    "plt.title('Environment vs SalesPrice (test set)')\n",
    "plt.xlabel(\"Environment\")\n",
    "plt.ylabel(\"Sales Price\")\n",
    "plt.show()"
   ]
  }
 ],
 "metadata": {
  "kernelspec": {
   "display_name": "challenge2",
   "language": "python",
   "name": "python3"
  },
  "language_info": {
   "codemirror_mode": {
    "name": "ipython",
    "version": 3
   },
   "file_extension": ".py",
   "mimetype": "text/x-python",
   "name": "python",
   "nbconvert_exporter": "python",
   "pygments_lexer": "ipython3",
   "version": "3.8.18"
  }
 },
 "nbformat": 4,
 "nbformat_minor": 2
}
