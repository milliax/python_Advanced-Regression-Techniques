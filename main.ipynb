{
 "cells": [
  {
   "cell_type": "code",
   "execution_count": 28,
   "metadata": {},
   "outputs": [],
   "source": [
    "\"\"\" Import data from csv file \"\"\"\n",
    "\n",
    "import pandas as pd\n",
    "import numpy as np\n",
    "\n",
    "# Import data from csv file\n",
    "df = pd.read_csv('train.csv')\n",
    "validate_df = pd.read_csv('test.csv')\n",
    "# display data with plot\n",
    "# df_with_nan = df[df.isna().any(axis=1)]\n",
    "# df_with_nan.head(10)\n",
    "# drop data with too many NaN\n",
    "\n",
    "train_df = df.sample(frac=0.8, random_state=101)\n",
    "test_df = df.drop(train_df.index)\n"
   ]
  },
  {
   "cell_type": "code",
   "execution_count": 29,
   "metadata": {},
   "outputs": [],
   "source": [
    "\"\"\" Process with data \"\"\"\n",
    "\n",
    "# getting correlation between each column\n",
    "\n",
    "train_df_corr = train_df.corr(numeric_only=True)\n",
    "corr_result = train_df_corr['SalePrice']\n",
    "\n",
    "tags_to_use = []\n",
    "tags_to_drop = []\n",
    "size = corr_result.size\n",
    "\n",
    "for i in range(size):\n",
    "    if ((abs(corr_result[i]) >= 0.27)):\n",
    "        tags_to_use.append(corr_result.index[i])\n",
    "\n",
    "for i in train_df.columns:\n",
    "    if i not in tags_to_use:\n",
    "        tags_to_drop.append(i)\n",
    "    else:\n",
    "        # Replace NaN with mean value\n",
    "        train_df[i] = train_df[i].fillna(train_df[i].mean())\n",
    "        test_df[i] = test_df[i].fillna(test_df[i].mean())\n",
    "\n",
    "\n",
    "y_train_df = train_df[\"SalePrice\"]\n",
    "train_df = train_df.drop(columns=(tags_to_drop+[\"SalePrice\"]))\n",
    "y_test_df = test_df[\"SalePrice\"]\n",
    "test_df = test_df.drop(columns=(tags_to_drop+[\"SalePrice\"]))\n",
    "\n",
    "\n",
    "# Standardize data\n",
    "from sklearn.preprocessing import StandardScaler\n",
    "\n",
    "scaler = StandardScaler()\n",
    "train_df = scaler.fit_transform(train_df)\n",
    "test_df = scaler.transform(test_df)\n"
   ]
  },
  {
   "cell_type": "code",
   "execution_count": 30,
   "metadata": {},
   "outputs": [
    {
     "name": "stdout",
     "output_type": "stream",
     "text": [
      "root mean square:  801857926.13142\n"
     ]
    }
   ],
   "source": [
    "\"\"\" Train model \"\"\"\n",
    "from sklearn.metrics import mean_squared_error\n",
    "from sklearn.linear_model import LinearRegression\n",
    "\n",
    "regressor = LinearRegression()\n",
    "regressor.fit(train_df, y_train_df)\n",
    "test_df_predict = regressor.predict(test_df)\n",
    "\n",
    "\"\"\" Evaluate model \"\"\"\n",
    "# w_0 = regressor.intercept_\n",
    "# w_1 = regressor.coef_\n",
    "# print(\"w_0: \", w_0)\n",
    "# print(\"w_1: \", w_1)\n",
    "\n",
    "mean_square = mean_squared_error(y_test_df, test_df_predict)\n",
    "print(\"root mean square: \", mean_square)"
   ]
  },
  {
   "cell_type": "code",
   "execution_count": 31,
   "metadata": {},
   "outputs": [
    {
     "name": "stdout",
     "output_type": "stream",
     "text": [
      "Predict:  [188983.1441445  197452.96678937 150644.22484767 118587.20383283\n",
      " 333123.52590579 139398.47745104 259995.92548189 282458.84979167\n",
      " 170747.7965294  260523.43627881 244754.45425327 113247.95087279\n",
      " 108429.90174224 107454.02773671 228541.41867316 108575.56800103\n",
      "  83213.92020199  75630.42143206 112607.52921469 267161.30855723\n",
      "  63382.2499491  129823.41289131 218576.47839542 234659.48460195\n",
      "  95371.71277205 194480.01066372 273586.71385898 170781.96215681\n",
      " 295408.54924605 139034.04440943 138792.09108038 193618.32749393\n",
      " 179276.80386228 223720.27704314  54915.65584347 269591.16179078\n",
      " 158374.72734397 271035.37398396 204832.04423225 288419.3074791\n",
      " 171392.53221464 112641.14530486 240582.24391272 147043.15068746\n",
      " 140575.19690396  78407.51025586 189218.98731533 212607.93560943\n",
      " 103909.37728531 279299.13324124 216616.23558303 128997.39714276\n",
      " 136568.09389824 260797.46601673 135252.91604196 242423.47638112\n",
      " 248341.1515302  281541.43515982 169085.85431158 179582.10737623\n",
      " 262054.8070488  195053.53991808 183934.59613676 229117.30030852\n",
      " 139724.59418563 278361.41143008 304916.0846323  332673.25257996\n",
      " 147732.83960893 254167.14583336 233643.95284803 296914.51928834\n",
      " 202481.36171467 172797.17419963 167234.46841176 130641.97614576\n",
      " 276070.579616   217768.2720008  114275.02891173 329009.71953791\n",
      " 126854.50091824 171254.027696    86187.1942877  132791.58905195\n",
      "  92726.30872073  93051.28414411 174549.31073112 275458.36487189\n",
      " 126977.71424227 123106.63030091 119942.92673981 119481.76764349\n",
      " 225634.33432675 220714.99418131 212870.24038851 117658.74293295\n",
      " 208624.21748765 187556.9272323  360647.08602034 297717.08441059\n",
      " 336213.69730996 122823.30077237 178201.43278663  95786.71958562\n",
      " 355045.23762073 121031.46232748 101268.8923356  137752.06084695\n",
      " 158378.58028157 165823.84431176 180464.19261175 208555.21751897\n",
      " 111261.61197473 214104.40612487 161554.38923826 121705.70666051\n",
      " 279633.44434534 334576.70327576 262081.48806712 223081.77102658\n",
      " 158450.00379713 270911.14706305 206357.08105916 174854.45995543\n",
      " 311603.26381465 111956.52594213 199585.42336848 179644.26064294\n",
      "  83191.92155696 197479.87179733 371607.06516722 132378.6595898\n",
      " 101888.53006682 168571.98512296 151248.66217198 103594.62092792\n",
      " 168635.23454928 157258.6191227  193854.53071289 218780.3516069\n",
      " 168574.0360099   73599.10613255  46870.33277863 332838.93738398\n",
      " 170820.0313271  143879.74240773 181909.90790696 124402.71956236\n",
      " 131111.67611842 124810.01129699 205500.26449586  74570.53589296\n",
      " 104896.64533399 164593.14212253  48039.81653186  98734.47583366\n",
      "  76402.34656372 302317.09214462 239295.50633878 136857.95510654\n",
      " 145277.28138104 239705.301238    74589.92727235 121043.68005974\n",
      "  83366.68013122  88907.33510878 192263.65729739 171391.63099355\n",
      " 163068.12138595 221041.64056702 225968.58344098 179835.99920655\n",
      " 164864.45820543 136504.45676658 118018.96696364 230936.15410667\n",
      " 129724.67862107 129052.77040609 184620.3651409  111255.56169099\n",
      " 104413.88086698 187188.2220988  187838.15737822 156168.26439029\n",
      " 190665.70056468  73659.68222387 263126.00908796 195507.05300423\n",
      " 126395.79011308 134606.87793195 165504.40007991 190690.20969201\n",
      " 199499.09794875 281330.73221701 130927.1430136  186160.42556787\n",
      " 107730.4771077  127639.9633548  122510.31366693 202160.28957615\n",
      " 205462.96673    129061.00870729 199555.09753208 255751.49991101\n",
      " 142110.32327525 131434.51084681 228562.15245952 109679.16319764\n",
      " 111719.1195686  110895.4388613  222449.83583419 227034.0732758\n",
      " 204289.6044133  103111.20638191 115073.46998092 140438.16997663\n",
      "  95019.46549388 313788.11084773  79667.52772152 190960.07134329\n",
      " 150083.54465108 120326.5566551  159191.67293773 203093.39370761\n",
      " 168994.17322867 162476.11256118  -2597.53691137 286181.76689363\n",
      " 232555.47030327 135531.65695925 231305.97618147  79761.57434678\n",
      " 233656.33424374 255609.59623694 152956.35940399 181806.02454342\n",
      " 130235.27904875  89911.01888241 196124.39129969 177834.49608818\n",
      " 210681.70992497 167020.3032046  204824.87574892 194035.73147832\n",
      " 127435.29050172 217231.47900671 140151.88918192  91853.52364587\n",
      " 174914.76995147 255623.47991839 247447.83364623  66455.39332763\n",
      " 154857.33423745 348614.419379   175749.87630641 142284.16871033\n",
      " 257438.80790744 204138.37756044 257856.7470123  138492.21276873\n",
      " 241994.2581612  138778.37054756 134063.85645133 189767.95249806\n",
      " 268903.39867421  83934.76383199 275892.34597293 126326.27668632\n",
      " 116974.39596274 242372.29080016 182029.46461855 148851.13122944\n",
      " 356689.62737986 242367.6815676  247633.09359803 144821.87546951\n",
      " 170829.57165018 117335.22209979 129018.63714258 145703.32336625\n",
      " 165272.86548168 267374.23966243 230208.72092595 309141.047018\n",
      " 176176.53227906 150746.58875446  83544.23397644  98583.85332688\n",
      " 198924.14255247 119569.92320046 118399.2615397  245924.25026276]\n"
     ]
    }
   ],
   "source": [
    "\"\"\" Predict \"\"\"\n",
    "y_predict = regressor.predict(validate_df)\n",
    "print(y_predict)"
   ]
  },
  {
   "cell_type": "code",
   "execution_count": 32,
   "metadata": {},
   "outputs": [
    {
     "ename": "IndexError",
     "evalue": "only integers, slices (`:`), ellipsis (`...`), numpy.newaxis (`None`) and integer or boolean arrays are valid indices",
     "output_type": "error",
     "traceback": [
      "\u001b[0;31m---------------------------------------------------------------------------\u001b[0m",
      "\u001b[0;31mIndexError\u001b[0m                                Traceback (most recent call last)",
      "\u001b[1;32m/home/max/workspace/machine_learning/challenge2/main.ipynb Cell 5\u001b[0m line \u001b[0;36m4\n\u001b[1;32m      <a href='vscode-notebook-cell://ssh-remote%2B192.168.196.146/home/max/workspace/machine_learning/challenge2/main.ipynb#W6sdnNjb2RlLXJlbW90ZQ%3D%3D?line=1'>2</a>\u001b[0m \u001b[39mimport\u001b[39;00m \u001b[39mmatplotlib\u001b[39;00m\u001b[39m.\u001b[39;00m\u001b[39mpyplot\u001b[39;00m \u001b[39mas\u001b[39;00m \u001b[39mplt\u001b[39;00m\n\u001b[1;32m      <a href='vscode-notebook-cell://ssh-remote%2B192.168.196.146/home/max/workspace/machine_learning/challenge2/main.ipynb#W6sdnNjb2RlLXJlbW90ZQ%3D%3D?line=2'>3</a>\u001b[0m \u001b[39m# visualize the training set results\u001b[39;00m\n\u001b[0;32m----> <a href='vscode-notebook-cell://ssh-remote%2B192.168.196.146/home/max/workspace/machine_learning/challenge2/main.ipynb#W6sdnNjb2RlLXJlbW90ZQ%3D%3D?line=3'>4</a>\u001b[0m plt\u001b[39m.\u001b[39mscatter(train_df[\u001b[39m\"\u001b[39;49m\u001b[39m1stFlrSF\u001b[39;49m\u001b[39m\"\u001b[39;49m], y_train_df, color \u001b[39m=\u001b[39m \u001b[39m'\u001b[39m\u001b[39mred\u001b[39m\u001b[39m'\u001b[39m)\n\u001b[1;32m      <a href='vscode-notebook-cell://ssh-remote%2B192.168.196.146/home/max/workspace/machine_learning/challenge2/main.ipynb#W6sdnNjb2RlLXJlbW90ZQ%3D%3D?line=4'>5</a>\u001b[0m plt\u001b[39m.\u001b[39mplot(train_df[\u001b[39m\"\u001b[39m\u001b[39m1stFlrSF\u001b[39m\u001b[39m\"\u001b[39m], regressor\u001b[39m.\u001b[39mpredict(train_df), color \u001b[39m=\u001b[39m \u001b[39m'\u001b[39m\u001b[39mblue\u001b[39m\u001b[39m'\u001b[39m)\n\u001b[1;32m      <a href='vscode-notebook-cell://ssh-remote%2B192.168.196.146/home/max/workspace/machine_learning/challenge2/main.ipynb#W6sdnNjb2RlLXJlbW90ZQ%3D%3D?line=5'>6</a>\u001b[0m plt\u001b[39m.\u001b[39mtitle(\u001b[39m'\u001b[39m\u001b[39mEnvironment vs SalesPrice (trainning set)\u001b[39m\u001b[39m'\u001b[39m)\n",
      "\u001b[0;31mIndexError\u001b[0m: only integers, slices (`:`), ellipsis (`...`), numpy.newaxis (`None`) and integer or boolean arrays are valid indices"
     ]
    }
   ],
   "source": [
    "\"\"\" Visualize \"\"\"\n",
    "import matplotlib.pyplot as plt\n",
    "# visualize the training set results\n",
    "plt.scatter(train_df[\"1stFlrSF\"], y_train_df, color = 'red')\n",
    "plt.plot(train_df[\"1stFlrSF\"], regressor.predict(train_df), color = 'blue')\n",
    "plt.title('Environment vs SalesPrice (trainning set)')\n",
    "plt.xlabel(\"Environment\")\n",
    "plt.ylabel(\"Sales Price\")\n",
    "plt.show()\n",
    "\n",
    "# visualize the test set results\n",
    "plt.scatter(test_df[\"1stFlrSF\"], y_test_df, color = 'red')\n",
    "plt.plot(test_df[\"1stFlrSF\"], regressor.predict(test_df), color = 'blue')\n",
    "plt.title('Environment vs SalesPrice (test set)')\n",
    "plt.xlabel(\"Environment\")\n",
    "plt.ylabel(\"Sales Price\")\n",
    "plt.show()"
   ]
  }
 ],
 "metadata": {
  "kernelspec": {
   "display_name": "challenge2",
   "language": "python",
   "name": "python3"
  },
  "language_info": {
   "codemirror_mode": {
    "name": "ipython",
    "version": 3
   },
   "file_extension": ".py",
   "mimetype": "text/x-python",
   "name": "python",
   "nbconvert_exporter": "python",
   "pygments_lexer": "ipython3",
   "version": "3.8.18"
  }
 },
 "nbformat": 4,
 "nbformat_minor": 2
}
