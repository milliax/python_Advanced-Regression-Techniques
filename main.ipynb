{
 "cells": [
  {
   "cell_type": "code",
   "execution_count": 4,
   "metadata": {},
   "outputs": [
    {
     "ename": "ImportError",
     "evalue": "cannot import name 'StarndardScaler' from 'sklearn.preprocessing' (/home/max/anaconda3/envs/challenge2/lib/python3.8/site-packages/sklearn/preprocessing/__init__.py)",
     "output_type": "error",
     "traceback": [
      "\u001b[0;31m---------------------------------------------------------------------------\u001b[0m",
      "\u001b[0;31mImportError\u001b[0m                               Traceback (most recent call last)",
      "\u001b[1;32m/home/max/workspace/machine_learning/challenge2/main.ipynb Cell 1\u001b[0m line \u001b[0;36m5\n\u001b[1;32m      <a href='vscode-notebook-cell://ssh-remote%2B192.168.0.14/home/max/workspace/machine_learning/challenge2/main.ipynb#W0sdnNjb2RlLXJlbW90ZQ%3D%3D?line=2'>3</a>\u001b[0m \u001b[39mimport\u001b[39;00m \u001b[39mnumpy\u001b[39;00m \u001b[39mas\u001b[39;00m \u001b[39mnp\u001b[39;00m\n\u001b[1;32m      <a href='vscode-notebook-cell://ssh-remote%2B192.168.0.14/home/max/workspace/machine_learning/challenge2/main.ipynb#W0sdnNjb2RlLXJlbW90ZQ%3D%3D?line=3'>4</a>\u001b[0m \u001b[39mimport\u001b[39;00m \u001b[39mseaborn\u001b[39;00m \u001b[39mas\u001b[39;00m \u001b[39msns\u001b[39;00m\n\u001b[0;32m----> <a href='vscode-notebook-cell://ssh-remote%2B192.168.0.14/home/max/workspace/machine_learning/challenge2/main.ipynb#W0sdnNjb2RlLXJlbW90ZQ%3D%3D?line=4'>5</a>\u001b[0m \u001b[39mfrom\u001b[39;00m \u001b[39msklearn\u001b[39;00m\u001b[39m.\u001b[39;00m\u001b[39mpreprocessing\u001b[39;00m \u001b[39mimport\u001b[39;00m StarndardScaler\n\u001b[1;32m      <a href='vscode-notebook-cell://ssh-remote%2B192.168.0.14/home/max/workspace/machine_learning/challenge2/main.ipynb#W0sdnNjb2RlLXJlbW90ZQ%3D%3D?line=5'>6</a>\u001b[0m \u001b[39mfrom\u001b[39;00m \u001b[39msklearn\u001b[39;00m\u001b[39m.\u001b[39;00m\u001b[39mlinear_model\u001b[39;00m \u001b[39mimport\u001b[39;00m LinearRegression,SGDRegressor\n\u001b[1;32m      <a href='vscode-notebook-cell://ssh-remote%2B192.168.0.14/home/max/workspace/machine_learning/challenge2/main.ipynb#W0sdnNjb2RlLXJlbW90ZQ%3D%3D?line=6'>7</a>\u001b[0m \u001b[39mfrom\u001b[39;00m \u001b[39msklearn\u001b[39;00m\u001b[39m.\u001b[39;00m\u001b[39mmodel_selection\u001b[39;00m \u001b[39mimport\u001b[39;00m train_test_split\n",
      "\u001b[0;31mImportError\u001b[0m: cannot import name 'StarndardScaler' from 'sklearn.preprocessing' (/home/max/anaconda3/envs/challenge2/lib/python3.8/site-packages/sklearn/preprocessing/__init__.py)"
     ]
    }
   ],
   "source": [
    "\"\"\" Import Pacakges \"\"\"\n",
    "import pandas as pd\n",
    "import numpy as np\n",
    "import seaborn as sns\n",
    "from sklearn.linear_model import LinearRegression,SGDRegressor\n",
    "from sklearn.model_selection import train_test_split\n",
    "from sklearn.metrics import mean_squared_error\n",
    "from sklearn.preprocessing import StandardScaler,PolynomialFeatures\n",
    "import matplotlib.pyplot as plt\n",
    "import itertools\n",
    "from tqdm import tqdm"
   ]
  },
  {
   "cell_type": "code",
   "execution_count": null,
   "metadata": {},
   "outputs": [],
   "source": [
    "\"\"\" Import data from csv file \"\"\"\n",
    "\n",
    "pd.set_option('display.max_columns', None)\n",
    "pd.set_option('display.max_rows', None)\n",
    "\n",
    "# Import data from csv file \n",
    "df = pd.read_csv('train.csv')\n",
    "test_df = pd.read_csv('test.csv')\n",
    "\n",
    "df_original = df.copy()\n",
    "\n",
    "train_df = df.sample(frac=0.8, random_state=101)\n",
    "validate_df = df.drop(train_df.index)\n",
    "\n",
    "train_df_original = train_df.copy()\n",
    "validate_df_original = validate_df.copy()\n",
    "test_df_original = test_df.copy()"
   ]
  },
  {
   "cell_type": "code",
   "execution_count": null,
   "metadata": {},
   "outputs": [
    {
     "name": "stdout",
     "output_type": "stream",
     "text": [
      "discrete columns:  ['RoofMatl_Tar&Grv', 'BsmtFinType1_BLQ', 'LotConfig_Inside', 'GarageFinish_Fin', 'Exterior2nd_Other', 'Functional_Min2', 'GarageFinish_RFn', 'PoolQC_Ex', 'SaleType_Oth', 'SaleType_ConLI', 'BldgType_2fmCon', 'RoofMatl_ClyTile', 'Exterior2nd_AsphShn', 'PavedDrive_P', 'RoofMatl_Roll', 'SaleType_CWD', 'Exterior1st_WdShing', 'Neighborhood_NWAmes', 'SaleType_ConLD', 'HeatingQC_Gd', 'GarageType_Basment', 'BsmtFinType1_Unf', 'Condition1_RRNn', 'HouseStyle_1Story', 'BldgType_Twnhs', 'Electrical_SBrkr', 'MasVnrType_Stone', 'Electrical_Mix', 'MasVnrType_BrkFace', 'Exterior2nd_HdBoard', 'Foundation_BrkTil', 'ExterCond_Ex', 'HeatingQC_Po', 'Alley_Grvl', 'Fence_GdPrv', 'BsmtFinType1_LwQ', 'BsmtCond_Fa', 'Exterior1st_MetalSd', 'HouseStyle_2.5Fin', 'BsmtFinType2_BLQ', 'GarageQual_Fa', 'Neighborhood_OldTown', 'FireplaceQu_Gd', 'BsmtCond_Gd', 'GarageQual_Gd', 'MiscFeature_Shed', 'Exterior2nd_Stucco', 'Condition2_Norm', 'Neighborhood_ClearCr', 'Neighborhood_NoRidge', 'Condition1_RRAn', 'Neighborhood_Mitchel', 'Neighborhood_Somerst', 'Neighborhood_Sawyer', 'Utilities_NoSeWa', 'LotShape_IR3', 'Condition2_RRAn', 'Exterior1st_Wd Sdng', 'LotConfig_FR2', 'Exterior1st_HdBoard', 'FireplaceQu_Fa', 'Alley_Pave', 'Neighborhood_SawyerW', 'SaleType_COD', 'GarageType_CarPort', 'LotShape_IR1', 'Functional_Mod', 'SaleCondition_AdjLand', 'SaleType_WD', 'Exterior2nd_Brk Cmn', 'FireplaceQu_Po', 'Condition2_Feedr', 'BsmtQual_Ex', 'GarageQual_Po', 'Street_Grvl', 'BsmtFinType2_GLQ', 'Heating_Floor', 'Neighborhood_SWISU', 'Exterior2nd_Wd Sdng', 'Neighborhood_Blmngtn', 'BsmtQual_Fa', 'Neighborhood_Blueste', 'BsmtFinType2_Rec', 'Condition1_RRNe', 'Condition2_PosA', 'Exterior2nd_Stone', 'FireplaceQu_Ex', 'MiscFeature_Othr', 'Exterior1st_AsphShn', 'Neighborhood_NAmes', 'KitchenQual_Ex', 'Neighborhood_StoneBr', 'BldgType_Duplex', 'MSZoning_FV', 'Exterior1st_ImStucc', 'Condition2_PosN', 'GarageType_Detchd', 'HeatingQC_TA', 'PavedDrive_N', 'BsmtCond_Po', 'LotConfig_Corner', 'Neighborhood_Edwards', 'Fence_MnWw', 'BsmtQual_Gd', 'Functional_Maj1', 'BsmtExposure_Av', 'PavedDrive_Y', 'MiscFeature_TenC', 'Neighborhood_BrkSide', 'Exterior1st_BrkComm', 'Foundation_Slab', 'RoofMatl_WdShake', 'LandContour_Bnk', 'Foundation_Wood', 'Neighborhood_CollgCr', 'RoofStyle_Gambrel', 'Heating_GasA', 'KitchenQual_Fa', 'KitchenQual_TA', 'Neighborhood_MeadowV', 'Foundation_PConc', 'Exterior2nd_ImStucc', 'ExterQual_Ex', 'GarageCond_Po', 'PoolQC_Gd', 'SaleType_Con', 'SaleCondition_Normal', 'GarageCond_Ex', 'HouseStyle_2Story', 'Fence_MnPrv', 'GarageType_2Types', 'ExterCond_Fa', 'Exterior1st_Stucco', 'Heating_OthW', 'Functional_Maj2', 'Neighborhood_NridgHt', 'MSZoning_C (all)', 'ExterCond_Gd', 'Street_Pave', 'MiscFeature_Gar2', 'Functional_Sev', 'GarageCond_TA', 'Fence_GdWo', 'Exterior2nd_Plywood', 'FireplaceQu_TA', 'Exterior2nd_MetalSd', 'BsmtFinType1_ALQ', 'SaleType_New', 'RoofStyle_Flat', 'HeatingQC_Ex', 'BldgType_TwnhsE', 'Exterior2nd_AsbShng', 'LandSlope_Mod', 'Exterior1st_AsbShng', 'LandContour_Lvl', 'Heating_GasW', 'Electrical_FuseP', 'LotConfig_FR3', 'Electrical_FuseA', 'RoofStyle_Shed', 'GarageType_BuiltIn', 'Neighborhood_IDOTRR', 'BsmtFinType2_LwQ', 'HouseStyle_2.5Unf', 'MSZoning_RM', 'Foundation_Stone', 'Condition2_RRNn', 'Exterior1st_VinylSd', 'BsmtExposure_Gd', 'Exterior2nd_Wd Shng', 'HeatingQC_Fa', 'CentralAir_N', 'KitchenQual_Gd', 'BsmtFinType2_Unf', 'MSZoning_RH', 'HouseStyle_SLvl', 'GarageQual_TA', 'Neighborhood_NPkVill', 'RoofStyle_Gable', 'BldgType_1Fam', 'Heating_Grav', 'Exterior1st_Plywood', 'BsmtFinType2_ALQ', 'LandSlope_Sev', 'Functional_Typ', 'Heating_Wall', 'Utilities_AllPub', 'RoofMatl_CompShg', 'Functional_Min1', 'GarageQual_Ex', 'Neighborhood_Veenker', 'ExterCond_TA', 'Condition1_PosN', 'BsmtFinType1_GLQ', 'ExterCond_Po', 'Condition2_RRAe', 'LotShape_IR2', 'Condition1_Artery', 'GarageCond_Fa', 'HouseStyle_1.5Fin', 'RoofMatl_WdShngl', 'Exterior1st_Stone', 'RoofStyle_Mansard', 'ExterQual_TA', 'HouseStyle_1.5Unf', 'Neighborhood_Gilbert', 'Neighborhood_Timber', 'SaleCondition_Abnorml', 'BsmtCond_TA', 'HouseStyle_SFoyer', 'Foundation_CBlock', 'GarageCond_Gd', 'RoofMatl_Metal', 'GarageFinish_Unf', 'MSZoning_RL', 'Condition1_Norm', 'LandContour_Low', 'Exterior2nd_VinylSd', 'Neighborhood_BrDale', 'GarageType_Attchd', 'MasVnrType_BrkCmn', 'BsmtQual_TA', 'Electrical_FuseF', 'CentralAir_Y', 'LandContour_HLS', 'Exterior2nd_BrkFace', 'Condition1_Feedr', 'LotShape_Reg', 'SaleCondition_Partial', 'LandSlope_Gtl', 'SaleType_ConLw', 'RoofMatl_Membran', 'ExterQual_Gd', 'LotConfig_CulDSac', 'Neighborhood_Crawfor', 'Condition1_PosA', 'BsmtExposure_No', 'Condition2_Artery', 'PoolQC_Fa', 'SaleCondition_Alloca', 'ExterQual_Fa', 'Exterior1st_BrkFace', 'SaleCondition_Family', 'Exterior2nd_CmentBd', 'RoofStyle_Hip', 'Exterior1st_CBlock', 'BsmtExposure_Mn', 'Condition1_RRAe', 'Exterior1st_CemntBd', 'Exterior2nd_CBlock', 'BsmtFinType1_Rec']\n"
     ]
    }
   ],
   "source": [
    "\"\"\" Preprocessing data \"\"\"\n",
    "\n",
    "# Dealing the Discrete data\n",
    "# Translating discrete data into number\n",
    "\n",
    "discrete_tags = [\"MSZoning\", \"Street\", \"Alley\", \"LotShape\", \"LandContour\", \"Utilities\", \"LotConfig\", \"LandSlope\",\n",
    "                 \"Neighborhood\", \"Condition1\", \"Condition2\", \"BldgType\", \"HouseStyle\", \"RoofStyle\", \"RoofMatl\",\n",
    "                 \"Exterior1st\", \"Exterior2nd\", \"MasVnrType\", \"ExterQual\", \"ExterCond\", \"Foundation\", \"BsmtQual\",\n",
    "                 \"BsmtCond\", \"BsmtExposure\", \"BsmtFinType1\", \"BsmtFinType2\", \"Heating\", \"HeatingQC\", \"CentralAir\",\n",
    "                 \"Electrical\", \"KitchenQual\", \"Functional\", \"FireplaceQu\", \"GarageType\", \"GarageFinish\", \"GarageQual\",\n",
    "                 \"GarageCond\", \"PavedDrive\", \"PoolQC\", \"Fence\", \"MiscFeature\", \"SaleType\", \"SaleCondition\"]\n",
    "\n",
    "# divide data into discrete and continuous\n",
    "train_df_continuous = train_df.drop(columns=discrete_tags)\n",
    "train_df_discrete = train_df[discrete_tags]\n",
    "\n",
    "# Removing columns with more than 50% missing values\n",
    "rows_of_data = train_df.shape[0]\n",
    "missing_values = train_df.isna().sum().to_dict()\n",
    "\n",
    "for i in missing_values:\n",
    "    if missing_values[i] > rows_of_data/2:\n",
    "        if i in discrete_tags:\n",
    "            train_df_discrete = train_df_discrete.drop(columns=i)\n",
    "        else:\n",
    "            train_df_continuous = train_df_continuous.drop(columns=i)\n",
    "\n",
    "# train_df_discrete = pd.get_dummies(\n",
    "#     train_df_discrete, columns=discrete_tags, dtype='int')\n",
    "# validate_df_discrete = pd.get_dummies(\n",
    "#     validate_df_discrete, columns=discrete_tags, dtype='int')\n",
    "# test_df_discrete = pd.get_dummies(\n",
    "#     test_df_discrete, columns=discrete_tags, dtype='int')\n",
    "\n",
    "# # dealing with discrete data with missing columns\n",
    "# columns = Union(train_df_discrete.columns.tolist(),\n",
    "#                 validate_df_discrete.columns.tolist())\n",
    "# columns = Union(columns, test_df_discrete.columns.tolist())\n",
    "\n",
    "# for tags_missing in Complement(columns, train_df_discrete.columns.tolist()):\n",
    "#     train_df_discrete[tags_missing] = 0\n",
    "\n",
    "# for tags_missing in Complement(columns, validate_df_discrete.columns.tolist()):\n",
    "#     validate_df_discrete[tags_missing] = 0\n",
    "\n",
    "# for tags_missing in Complement(columns, test_df_discrete.columns.tolist()):\n",
    "#     test_df_discrete[tags_missing] = 0\n",
    "\n",
    "# train_df = train_df_continuous.join(train_df_discrete)\n",
    "# validate_df = validate_df_continuous.join(validate_df_discrete)\n",
    "# test_df = test_df_continuous.join(test_df_discrete)\n",
    "\n",
    "# train_df_discrete['SalePrice'] = train_df_original['SalePrice']\n",
    "\n",
    "# print(\"discrete columns: \", columns)"
   ]
  },
  {
   "cell_type": "code",
   "execution_count": null,
   "metadata": {},
   "outputs": [
    {
     "name": "stderr",
     "output_type": "stream",
     "text": [
      "0it [00:00, ?it/s]"
     ]
    },
    {
     "name": "stderr",
     "output_type": "stream",
     "text": [
      "49it [00:57,  1.18s/it]\n",
      "/home/max/anaconda3/envs/challenge2/lib/python3.8/site-packages/sklearn/base.py:457: UserWarning: X has feature names, but LinearRegression was fitted without feature names\n",
      "  warnings.warn(\n"
     ]
    },
    {
     "name": "stdout",
     "output_type": "stream",
     "text": [
      "best_tuple:  (0.7500000000000001, 0.7500000000000001)\n"
     ]
    },
    {
     "ename": "ValueError",
     "evalue": "Input X contains NaN.\nLinearRegression does not accept missing values encoded as NaN natively. For supervised learning, you might want to consider sklearn.ensemble.HistGradientBoostingClassifier and Regressor which accept missing values encoded as NaNs natively. Alternatively, it is possible to preprocess the data, for instance by using an imputer transformer in a pipeline or drop samples with missing values. See https://scikit-learn.org/stable/modules/impute.html You can find a list of all estimators that handle NaN values at the following page: https://scikit-learn.org/stable/modules/impute.html#estimators-that-handle-nan-values",
     "output_type": "error",
     "traceback": [
      "\u001b[0;31m---------------------------------------------------------------------------\u001b[0m",
      "\u001b[0;31mValueError\u001b[0m                                Traceback (most recent call last)",
      "\u001b[1;32m/home/max/workspace/machine_learning/challenge2/main.ipynb Cell 4\u001b[0m line \u001b[0;36m1\n\u001b[1;32m    <a href='vscode-notebook-cell://ssh-remote%2B192.168.0.14/home/max/workspace/machine_learning/challenge2/main.ipynb#W3sdnNjb2RlLXJlbW90ZQ%3D%3D?line=145'>146</a>\u001b[0m regressor_lr \u001b[39m=\u001b[39m LinearRegression()\n\u001b[1;32m    <a href='vscode-notebook-cell://ssh-remote%2B192.168.0.14/home/max/workspace/machine_learning/challenge2/main.ipynb#W3sdnNjb2RlLXJlbW90ZQ%3D%3D?line=146'>147</a>\u001b[0m regressor_lr\u001b[39m.\u001b[39mfit(here_train_df, y_train_df)\n\u001b[0;32m--> <a href='vscode-notebook-cell://ssh-remote%2B192.168.0.14/home/max/workspace/machine_learning/challenge2/main.ipynb#W3sdnNjb2RlLXJlbW90ZQ%3D%3D?line=147'>148</a>\u001b[0m predict_validate_lr \u001b[39m=\u001b[39m regressor_lr\u001b[39m.\u001b[39;49mpredict(validate_df)\n\u001b[1;32m    <a href='vscode-notebook-cell://ssh-remote%2B192.168.0.14/home/max/workspace/machine_learning/challenge2/main.ipynb#W3sdnNjb2RlLXJlbW90ZQ%3D%3D?line=149'>150</a>\u001b[0m \u001b[39m# SGD Regressor\u001b[39;00m\n\u001b[1;32m    <a href='vscode-notebook-cell://ssh-remote%2B192.168.0.14/home/max/workspace/machine_learning/challenge2/main.ipynb#W3sdnNjb2RlLXJlbW90ZQ%3D%3D?line=150'>151</a>\u001b[0m sgd_regressor \u001b[39m=\u001b[39m SGDRegressor()\n",
      "File \u001b[0;32m~/anaconda3/envs/challenge2/lib/python3.8/site-packages/sklearn/linear_model/_base.py:386\u001b[0m, in \u001b[0;36mLinearModel.predict\u001b[0;34m(self, X)\u001b[0m\n\u001b[1;32m    372\u001b[0m \u001b[39mdef\u001b[39;00m \u001b[39mpredict\u001b[39m(\u001b[39mself\u001b[39m, X):\n\u001b[1;32m    373\u001b[0m \u001b[39m    \u001b[39m\u001b[39m\"\"\"\u001b[39;00m\n\u001b[1;32m    374\u001b[0m \u001b[39m    Predict using the linear model.\u001b[39;00m\n\u001b[1;32m    375\u001b[0m \n\u001b[0;32m   (...)\u001b[0m\n\u001b[1;32m    384\u001b[0m \u001b[39m        Returns predicted values.\u001b[39;00m\n\u001b[1;32m    385\u001b[0m \u001b[39m    \"\"\"\u001b[39;00m\n\u001b[0;32m--> 386\u001b[0m     \u001b[39mreturn\u001b[39;00m \u001b[39mself\u001b[39;49m\u001b[39m.\u001b[39;49m_decision_function(X)\n",
      "File \u001b[0;32m~/anaconda3/envs/challenge2/lib/python3.8/site-packages/sklearn/linear_model/_base.py:369\u001b[0m, in \u001b[0;36mLinearModel._decision_function\u001b[0;34m(self, X)\u001b[0m\n\u001b[1;32m    366\u001b[0m \u001b[39mdef\u001b[39;00m \u001b[39m_decision_function\u001b[39m(\u001b[39mself\u001b[39m, X):\n\u001b[1;32m    367\u001b[0m     check_is_fitted(\u001b[39mself\u001b[39m)\n\u001b[0;32m--> 369\u001b[0m     X \u001b[39m=\u001b[39m \u001b[39mself\u001b[39;49m\u001b[39m.\u001b[39;49m_validate_data(X, accept_sparse\u001b[39m=\u001b[39;49m[\u001b[39m\"\u001b[39;49m\u001b[39mcsr\u001b[39;49m\u001b[39m\"\u001b[39;49m, \u001b[39m\"\u001b[39;49m\u001b[39mcsc\u001b[39;49m\u001b[39m\"\u001b[39;49m, \u001b[39m\"\u001b[39;49m\u001b[39mcoo\u001b[39;49m\u001b[39m\"\u001b[39;49m], reset\u001b[39m=\u001b[39;49m\u001b[39mFalse\u001b[39;49;00m)\n\u001b[1;32m    370\u001b[0m     \u001b[39mreturn\u001b[39;00m safe_sparse_dot(X, \u001b[39mself\u001b[39m\u001b[39m.\u001b[39mcoef_\u001b[39m.\u001b[39mT, dense_output\u001b[39m=\u001b[39m\u001b[39mTrue\u001b[39;00m) \u001b[39m+\u001b[39m \u001b[39mself\u001b[39m\u001b[39m.\u001b[39mintercept_\n",
      "File \u001b[0;32m~/anaconda3/envs/challenge2/lib/python3.8/site-packages/sklearn/base.py:604\u001b[0m, in \u001b[0;36mBaseEstimator._validate_data\u001b[0;34m(self, X, y, reset, validate_separately, cast_to_ndarray, **check_params)\u001b[0m\n\u001b[1;32m    602\u001b[0m         out \u001b[39m=\u001b[39m X, y\n\u001b[1;32m    603\u001b[0m \u001b[39melif\u001b[39;00m \u001b[39mnot\u001b[39;00m no_val_X \u001b[39mand\u001b[39;00m no_val_y:\n\u001b[0;32m--> 604\u001b[0m     out \u001b[39m=\u001b[39m check_array(X, input_name\u001b[39m=\u001b[39;49m\u001b[39m\"\u001b[39;49m\u001b[39mX\u001b[39;49m\u001b[39m\"\u001b[39;49m, \u001b[39m*\u001b[39;49m\u001b[39m*\u001b[39;49mcheck_params)\n\u001b[1;32m    605\u001b[0m \u001b[39melif\u001b[39;00m no_val_X \u001b[39mand\u001b[39;00m \u001b[39mnot\u001b[39;00m no_val_y:\n\u001b[1;32m    606\u001b[0m     out \u001b[39m=\u001b[39m _check_y(y, \u001b[39m*\u001b[39m\u001b[39m*\u001b[39mcheck_params)\n",
      "File \u001b[0;32m~/anaconda3/envs/challenge2/lib/python3.8/site-packages/sklearn/utils/validation.py:959\u001b[0m, in \u001b[0;36mcheck_array\u001b[0;34m(array, accept_sparse, accept_large_sparse, dtype, order, copy, force_all_finite, ensure_2d, allow_nd, ensure_min_samples, ensure_min_features, estimator, input_name)\u001b[0m\n\u001b[1;32m    953\u001b[0m         \u001b[39mraise\u001b[39;00m \u001b[39mValueError\u001b[39;00m(\n\u001b[1;32m    954\u001b[0m             \u001b[39m\"\u001b[39m\u001b[39mFound array with dim \u001b[39m\u001b[39m%d\u001b[39;00m\u001b[39m. \u001b[39m\u001b[39m%s\u001b[39;00m\u001b[39m expected <= 2.\u001b[39m\u001b[39m\"\u001b[39m\n\u001b[1;32m    955\u001b[0m             \u001b[39m%\u001b[39m (array\u001b[39m.\u001b[39mndim, estimator_name)\n\u001b[1;32m    956\u001b[0m         )\n\u001b[1;32m    958\u001b[0m     \u001b[39mif\u001b[39;00m force_all_finite:\n\u001b[0;32m--> 959\u001b[0m         _assert_all_finite(\n\u001b[1;32m    960\u001b[0m             array,\n\u001b[1;32m    961\u001b[0m             input_name\u001b[39m=\u001b[39;49minput_name,\n\u001b[1;32m    962\u001b[0m             estimator_name\u001b[39m=\u001b[39;49mestimator_name,\n\u001b[1;32m    963\u001b[0m             allow_nan\u001b[39m=\u001b[39;49mforce_all_finite \u001b[39m==\u001b[39;49m \u001b[39m\"\u001b[39;49m\u001b[39mallow-nan\u001b[39;49m\u001b[39m\"\u001b[39;49m,\n\u001b[1;32m    964\u001b[0m         )\n\u001b[1;32m    966\u001b[0m \u001b[39mif\u001b[39;00m ensure_min_samples \u001b[39m>\u001b[39m \u001b[39m0\u001b[39m:\n\u001b[1;32m    967\u001b[0m     n_samples \u001b[39m=\u001b[39m _num_samples(array)\n",
      "File \u001b[0;32m~/anaconda3/envs/challenge2/lib/python3.8/site-packages/sklearn/utils/validation.py:124\u001b[0m, in \u001b[0;36m_assert_all_finite\u001b[0;34m(X, allow_nan, msg_dtype, estimator_name, input_name)\u001b[0m\n\u001b[1;32m    121\u001b[0m \u001b[39mif\u001b[39;00m first_pass_isfinite:\n\u001b[1;32m    122\u001b[0m     \u001b[39mreturn\u001b[39;00m\n\u001b[0;32m--> 124\u001b[0m _assert_all_finite_element_wise(\n\u001b[1;32m    125\u001b[0m     X,\n\u001b[1;32m    126\u001b[0m     xp\u001b[39m=\u001b[39;49mxp,\n\u001b[1;32m    127\u001b[0m     allow_nan\u001b[39m=\u001b[39;49mallow_nan,\n\u001b[1;32m    128\u001b[0m     msg_dtype\u001b[39m=\u001b[39;49mmsg_dtype,\n\u001b[1;32m    129\u001b[0m     estimator_name\u001b[39m=\u001b[39;49mestimator_name,\n\u001b[1;32m    130\u001b[0m     input_name\u001b[39m=\u001b[39;49minput_name,\n\u001b[1;32m    131\u001b[0m )\n",
      "File \u001b[0;32m~/anaconda3/envs/challenge2/lib/python3.8/site-packages/sklearn/utils/validation.py:173\u001b[0m, in \u001b[0;36m_assert_all_finite_element_wise\u001b[0;34m(X, xp, allow_nan, msg_dtype, estimator_name, input_name)\u001b[0m\n\u001b[1;32m    156\u001b[0m \u001b[39mif\u001b[39;00m estimator_name \u001b[39mand\u001b[39;00m input_name \u001b[39m==\u001b[39m \u001b[39m\"\u001b[39m\u001b[39mX\u001b[39m\u001b[39m\"\u001b[39m \u001b[39mand\u001b[39;00m has_nan_error:\n\u001b[1;32m    157\u001b[0m     \u001b[39m# Improve the error message on how to handle missing values in\u001b[39;00m\n\u001b[1;32m    158\u001b[0m     \u001b[39m# scikit-learn.\u001b[39;00m\n\u001b[1;32m    159\u001b[0m     msg_err \u001b[39m+\u001b[39m\u001b[39m=\u001b[39m (\n\u001b[1;32m    160\u001b[0m         \u001b[39mf\u001b[39m\u001b[39m\"\u001b[39m\u001b[39m\\n\u001b[39;00m\u001b[39m{\u001b[39;00mestimator_name\u001b[39m}\u001b[39;00m\u001b[39m does not accept missing values\u001b[39m\u001b[39m\"\u001b[39m\n\u001b[1;32m    161\u001b[0m         \u001b[39m\"\u001b[39m\u001b[39m encoded as NaN natively. For supervised learning, you might want\u001b[39m\u001b[39m\"\u001b[39m\n\u001b[0;32m   (...)\u001b[0m\n\u001b[1;32m    171\u001b[0m         \u001b[39m\"\u001b[39m\u001b[39m#estimators-that-handle-nan-values\u001b[39m\u001b[39m\"\u001b[39m\n\u001b[1;32m    172\u001b[0m     )\n\u001b[0;32m--> 173\u001b[0m \u001b[39mraise\u001b[39;00m \u001b[39mValueError\u001b[39;00m(msg_err)\n",
      "\u001b[0;31mValueError\u001b[0m: Input X contains NaN.\nLinearRegression does not accept missing values encoded as NaN natively. For supervised learning, you might want to consider sklearn.ensemble.HistGradientBoostingClassifier and Regressor which accept missing values encoded as NaNs natively. Alternatively, it is possible to preprocess the data, for instance by using an imputer transformer in a pipeline or drop samples with missing values. See https://scikit-learn.org/stable/modules/impute.html You can find a list of all estimators that handle NaN values at the following page: https://scikit-learn.org/stable/modules/impute.html#estimators-that-handle-nan-values"
     ]
    }
   ],
   "source": [
    "\"\"\" Processing data \"\"\"\n",
    "# getting correlation between each column\n",
    "\n",
    "# selecting continuous data\n",
    "train_df_corr_continuous = train_df_continuous.corr(numeric_only=True)\n",
    "corr_result_continuous = train_df_corr_continuous['SalePrice']\n",
    "\n",
    "tags_to_use = []\n",
    "for i in range(corr_result_continuous.size):\n",
    "    if (corr_result_continuous[i] >= 0.6):\n",
    "        if (corr_result_continuous != \"SalePrice\"):\n",
    "            tags_to_use.append(corr_result_continuous.index[i])\n",
    "\n",
    "# selecting discrete data\n",
    "sigmas = []\n",
    "for i in discrete_tags:\n",
    "    discrete_data_in_column = train_df_discrete[i].unique().tolist()\n",
    "    y = [train_df[train_df[i] == discrete_datum][\"SalePrice\"].mean()\n",
    "         for discrete_datum in discrete_data_in_column]\n",
    "    sigma = np.std(y)\n",
    "    sigmas.append(sigma, i)\n",
    "\n",
    "# selected_discrete_tags = sigmas.sort(key=lambda x,y: x[0], reverse=True)\n",
    "selected_discrete_tags = sorted(sigmas, key=lambda x: x[0])[:10]\n",
    "print(\"selected discrete tags\", selected_discrete_tags)\n",
    "\n",
    "train_df_discrete = train_df_discrete[selected_discrete_tags]\n",
    "\n",
    "train_df_discrete = pd.get_dummies(\n",
    "    train_df_discrete, columns=selected_discrete_tags, dtype=np.int64)\n",
    "\n",
    "print(\"all selected tags: \", train_df_continuous.columns.tolist() +\n",
    "      train_df_discrete.column.tolist())"
   ]
  },
  {
   "cell_type": "code",
   "execution_count": null,
   "metadata": {},
   "outputs": [],
   "source": [
    "y_train_df = train_df[\"SalePrice\"]\n",
    "y_validate_df = validate_df[\"SalePrice\"]\n",
    "\n",
    "min_tuple = (0.15, 0.15)\n",
    "min_degree = 1\n",
    "min_data_sum = 10e20\n",
    "\n",
    "# final_tags_to_drop = []\n",
    "final_tags_to_use = []\n",
    "\n",
    "for x, y in tqdm(itertools.product(np.arange(0.15, 0.8, 0.1), np.arange(0.15, 0.8, 0.1))):\n",
    "    # print(\"x,y: \", x, y)\n",
    "    # use correlation to select continuous tags\n",
    "    tags_to_drop = []\n",
    "\n",
    "    here_train_df = train_df.copy()\n",
    "    here_validate_df = validate_df.copy()\n",
    "    here_test_df = test_df.copy()\n",
    "\n",
    "    \"\"\" Post-processing data \"\"\"\n",
    "    for i in here_train_df.columns:\n",
    "        if i == \"SalePrice\":\n",
    "            continue\n",
    "\n",
    "        if i not in tags_to_use:\n",
    "            tags_to_drop.append(i)\n",
    "        else:\n",
    "            # Replace NaN with mean value\n",
    "            here_train_df[i] = here_train_df[i].fillna(here_train_df[i].mean())\n",
    "            here_validate_df[i] = here_test_df[i].fillna(\n",
    "                here_test_df[i].mean())\n",
    "            here_test_df[i] = here_test_df[i].fillna(here_test_df[i].mean())\n",
    "\n",
    "    tags_to_drop_with_saleprice = tags_to_drop.copy() + [\"SalePrice\"]\n",
    "    here_train_df = here_train_df.drop(columns=(tags_to_drop_with_saleprice))\n",
    "    here_validate_df = here_validate_df.drop(\n",
    "        columns=(tags_to_drop_with_saleprice))\n",
    "    here_test_df = here_test_df.drop(columns=tags_to_drop)\n",
    "\n",
    "    # Standardize data\n",
    "\n",
    "    # here_train_df = here_train_df[-1:] + here_train_df[:-1]\n",
    "    # here_validate_df = here_validate_df[-1:] + here_validate_df[:-1]\n",
    "    # here_test_df = here_test_df[-1:] + here_test_df[:-1]\n",
    "\n",
    "    if here_train_df.columns.tolist() == here_validate_df.columns.tolist() and here_validate_df.columns.tolist() == here_test_df.columns.tolist():\n",
    "        pass\n",
    "    else:\n",
    "        print(\"invalid data\")\n",
    "        print(\"train_df: \", len(here_train_df.columns.tolist()))\n",
    "        print(\"validate_df: \", len(here_validate_df.columns.tolist()))\n",
    "        print(\"test_df: \", len(here_test_df.columns.tolist()))\n",
    "\n",
    "    scaler = StandardScaler()\n",
    "    here_train_df = scaler.fit_transform(here_train_df)\n",
    "    here_validate_df = scaler.transform(here_validate_df)\n",
    "    here_test_df = scaler.transform(here_test_df)\n",
    "\n",
    "    \"\"\" Fit models \"\"\"\n",
    "    # Linear Regression\n",
    "    regressor = LinearRegression()\n",
    "    regressor.fit(here_train_df, y_train_df)\n",
    "    validate_df_predict_lr = regressor.predict(here_validate_df)\n",
    "\n",
    "    # SGD Regressor\n",
    "    sgd_regressor = SGDRegressor()\n",
    "    sgd_regressor.fit(here_train_df, y_train_df)\n",
    "    validate_df_predict_sgd = sgd_regressor.predict(here_validate_df)\n",
    "\n",
    "    # Polynomial Regression\n",
    "    min_degree = 10\n",
    "    min_value = 10e20\n",
    "\n",
    "    for polynomial_degree in range(1, 4):\n",
    "        poly_reg = PolynomialFeatures(degree=polynomial_degree)\n",
    "        train_df_poly = poly_reg.fit_transform(here_train_df)\n",
    "        poly_regressor = LinearRegression().fit(train_df_poly, y_train_df)\n",
    "\n",
    "        validate_df_poly = PolynomialFeatures(\n",
    "            degree=polynomial_degree).fit_transform(here_validate_df)\n",
    "        polynomial_predict = poly_regressor.predict(validate_df_poly)\n",
    "        poly_mean_square = mean_squared_error(\n",
    "            y_validate_df, polynomial_predict)\n",
    "\n",
    "        if poly_mean_square < min_value:\n",
    "            min_value = poly_mean_square\n",
    "            min_degree = polynomial_degree\n",
    "\n",
    "    \"\"\" Evaluate models \"\"\"\n",
    "    lr_mean_square = mean_squared_error(y_validate_df, validate_df_predict_lr)\n",
    "    sgd_mean_square = mean_squared_error(\n",
    "        y_validate_df, validate_df_predict_sgd)\n",
    "    # poly_mean_square = mean_squared_error(y_validate_df, polynomial_predict)\n",
    "    # print(\"root mean square(LR): \", '{:,}'.format(lr_mean_square))\n",
    "    # print(\"root mean square(SGD): \", '{:,}'.format(sgd_mean_square))\n",
    "    # print(\"root mean square(Poly): \", '{:,}'.format(poly_mean_square))\n",
    "    if (lr_mean_square+sgd_mean_square+min_value < min_data_sum):\n",
    "        min_data_sum = lr_mean_square+sgd_mean_square+poly_mean_square\n",
    "        min_tuple = (x, y)\n",
    "        final_tags_to_use = tags_to_use\n",
    "\n",
    "print(\"best_tuple: \", min_tuple)\n",
    "\n",
    "tags_to_drop = []\n",
    "\n",
    "\"\"\" Evaluate models \"\"\"\n",
    "for i in train_df.columns:\n",
    "    if i == \"SalePrice\":\n",
    "        continue\n",
    "        if i not in tags_to_use:\n",
    "            tags_to_drop.append(i)\n",
    "        else:\n",
    "            # Replace NaN with mean value\n",
    "            train_df[i] = train_df[i].fillna(train_df[i].mean())\n",
    "            validate_df[i] = validate_df[i].fillna(validate_df[i].mean())\n",
    "            test_df[i] = test_df[i].fillna(test_df[i].mean())\n",
    "\n",
    "train_df = train_df.drop(columns=tags_to_drop)\n",
    "validate_df = validate_df.drop(columns=tags_to_drop)\n",
    "test_df = test_df.drop(columns=tags_to_drop)\n",
    "# Linear Regression\n",
    "\"\"\" Fit models \"\"\"\n",
    "# Linear Regression\n",
    "regressor_lr = LinearRegression()\n",
    "regressor_lr.fit(here_train_df, y_train_df)\n",
    "predict_validate_lr = regressor_lr.predict(validate_df)\n",
    "\n",
    "# SGD Regressor\n",
    "sgd_regressor = SGDRegressor()\n",
    "sgd_regressor.fit(here_train_df, y_train_df)\n",
    "predict_validate_sgd = sgd_regressor.predict(validate_df)\n",
    "\n",
    "# Polynomial Regression\n",
    "poly_reg = PolynomialFeatures(degree=min_degree)\n",
    "train_df_poly = poly_reg.fit_transform(here_train_df)\n",
    "poly_regressor = LinearRegression().fit(train_df_poly, y_train_df)\n",
    "predict_validate_poly = poly_regressor.predict(validate_df)\n",
    "\n",
    "print(\"root mean square(LR): \", '{:,}'.format(\n",
    "    mean_squared_error(y_validate_df, predict_validate_lr)))\n",
    "print(\"root mean square(SGD): \", '{:,}'.format(\n",
    "    mean_squared_error(y_validate_df, predict_validate_sgd)))\n",
    "print(\"root mean square(Poly): \", '{:,}'.format(\n",
    "    mean_squared_error(y_validate_df, predict_validate_poly)))"
   ]
  },
  {
   "cell_type": "code",
   "execution_count": null,
   "metadata": {},
   "outputs": [
    {
     "data": {
      "text/plain": [
       "' Train model '"
      ]
     },
     "execution_count": 5,
     "metadata": {},
     "output_type": "execute_result"
    }
   ],
   "source": [
    "\"\"\" Train model \"\"\""
   ]
  },
  {
   "cell_type": "code",
   "execution_count": null,
   "metadata": {},
   "outputs": [],
   "source": [
    "# \"\"\" Predict \"\"\"\n",
    "# ## Linear Regression\n",
    "# test_df_predict = regressor.predict(test_df)\n",
    "# # save the result to csv file\n",
    "# dataframe_result = pd.DataFrame({'Id': test_df_original.Id, 'SalePrice': test_df_predict})\n",
    "# dataframe_result.to_csv('result_lr.csv', index=False)\n",
    "\n",
    "# ## SGD Regressor\n",
    "# test_df_predict = sgd_regressor.predict(test_df)\n",
    "# # save the result to csv file\n",
    "# dataframe_result = pd.DataFrame({'Id': test_df_original.Id, 'SalePrice': test_df_predict})\n",
    "# dataframe_result.to_csv('result_sgd.csv', index=False)"
   ]
  },
  {
   "cell_type": "code",
   "execution_count": null,
   "metadata": {},
   "outputs": [
    {
     "name": "stderr",
     "output_type": "stream",
     "text": [
      "/home/max/anaconda3/envs/challenge2/lib/python3.8/site-packages/sklearn/base.py:457: UserWarning: X has feature names, but LinearRegression was fitted without feature names\n",
      "  warnings.warn(\n"
     ]
    },
    {
     "ename": "ValueError",
     "evalue": "Input X contains NaN.\nLinearRegression does not accept missing values encoded as NaN natively. For supervised learning, you might want to consider sklearn.ensemble.HistGradientBoostingClassifier and Regressor which accept missing values encoded as NaNs natively. Alternatively, it is possible to preprocess the data, for instance by using an imputer transformer in a pipeline or drop samples with missing values. See https://scikit-learn.org/stable/modules/impute.html You can find a list of all estimators that handle NaN values at the following page: https://scikit-learn.org/stable/modules/impute.html#estimators-that-handle-nan-values",
     "output_type": "error",
     "traceback": [
      "\u001b[0;31m---------------------------------------------------------------------------\u001b[0m",
      "\u001b[0;31mValueError\u001b[0m                                Traceback (most recent call last)",
      "\u001b[1;32m/home/max/workspace/machine_learning/challenge2/main.ipynb Cell 7\u001b[0m line \u001b[0;36m5\n\u001b[1;32m      <a href='vscode-notebook-cell://ssh-remote%2B192.168.0.14/home/max/workspace/machine_learning/challenge2/main.ipynb#W6sdnNjb2RlLXJlbW90ZQ%3D%3D?line=2'>3</a>\u001b[0m \u001b[39m# visualize the training set results\u001b[39;00m\n\u001b[1;32m      <a href='vscode-notebook-cell://ssh-remote%2B192.168.0.14/home/max/workspace/machine_learning/challenge2/main.ipynb#W6sdnNjb2RlLXJlbW90ZQ%3D%3D?line=3'>4</a>\u001b[0m plt\u001b[39m.\u001b[39mscatter(train_df[\u001b[39m\"\u001b[39m\u001b[39m1stFlrSF\u001b[39m\u001b[39m\"\u001b[39m], y_train_df, color\u001b[39m=\u001b[39m\u001b[39m'\u001b[39m\u001b[39mred\u001b[39m\u001b[39m'\u001b[39m)\n\u001b[0;32m----> <a href='vscode-notebook-cell://ssh-remote%2B192.168.0.14/home/max/workspace/machine_learning/challenge2/main.ipynb#W6sdnNjb2RlLXJlbW90ZQ%3D%3D?line=4'>5</a>\u001b[0m plt\u001b[39m.\u001b[39mplot(train_df[\u001b[39m\"\u001b[39m\u001b[39m1stFlrSF\u001b[39m\u001b[39m\"\u001b[39m], regressor\u001b[39m.\u001b[39;49mpredict(train_df), color\u001b[39m=\u001b[39m\u001b[39m'\u001b[39m\u001b[39mblue\u001b[39m\u001b[39m'\u001b[39m)\n\u001b[1;32m      <a href='vscode-notebook-cell://ssh-remote%2B192.168.0.14/home/max/workspace/machine_learning/challenge2/main.ipynb#W6sdnNjb2RlLXJlbW90ZQ%3D%3D?line=5'>6</a>\u001b[0m plt\u001b[39m.\u001b[39mtitle(\u001b[39m'\u001b[39m\u001b[39mEnvironment vs SalesPrice (trainning set)\u001b[39m\u001b[39m'\u001b[39m)\n\u001b[1;32m      <a href='vscode-notebook-cell://ssh-remote%2B192.168.0.14/home/max/workspace/machine_learning/challenge2/main.ipynb#W6sdnNjb2RlLXJlbW90ZQ%3D%3D?line=6'>7</a>\u001b[0m plt\u001b[39m.\u001b[39mxlabel(\u001b[39m\"\u001b[39m\u001b[39mEnvironment\u001b[39m\u001b[39m\"\u001b[39m)\n",
      "File \u001b[0;32m~/anaconda3/envs/challenge2/lib/python3.8/site-packages/sklearn/linear_model/_base.py:386\u001b[0m, in \u001b[0;36mLinearModel.predict\u001b[0;34m(self, X)\u001b[0m\n\u001b[1;32m    372\u001b[0m \u001b[39mdef\u001b[39;00m \u001b[39mpredict\u001b[39m(\u001b[39mself\u001b[39m, X):\n\u001b[1;32m    373\u001b[0m \u001b[39m    \u001b[39m\u001b[39m\"\"\"\u001b[39;00m\n\u001b[1;32m    374\u001b[0m \u001b[39m    Predict using the linear model.\u001b[39;00m\n\u001b[1;32m    375\u001b[0m \n\u001b[0;32m   (...)\u001b[0m\n\u001b[1;32m    384\u001b[0m \u001b[39m        Returns predicted values.\u001b[39;00m\n\u001b[1;32m    385\u001b[0m \u001b[39m    \"\"\"\u001b[39;00m\n\u001b[0;32m--> 386\u001b[0m     \u001b[39mreturn\u001b[39;00m \u001b[39mself\u001b[39;49m\u001b[39m.\u001b[39;49m_decision_function(X)\n",
      "File \u001b[0;32m~/anaconda3/envs/challenge2/lib/python3.8/site-packages/sklearn/linear_model/_base.py:369\u001b[0m, in \u001b[0;36mLinearModel._decision_function\u001b[0;34m(self, X)\u001b[0m\n\u001b[1;32m    366\u001b[0m \u001b[39mdef\u001b[39;00m \u001b[39m_decision_function\u001b[39m(\u001b[39mself\u001b[39m, X):\n\u001b[1;32m    367\u001b[0m     check_is_fitted(\u001b[39mself\u001b[39m)\n\u001b[0;32m--> 369\u001b[0m     X \u001b[39m=\u001b[39m \u001b[39mself\u001b[39;49m\u001b[39m.\u001b[39;49m_validate_data(X, accept_sparse\u001b[39m=\u001b[39;49m[\u001b[39m\"\u001b[39;49m\u001b[39mcsr\u001b[39;49m\u001b[39m\"\u001b[39;49m, \u001b[39m\"\u001b[39;49m\u001b[39mcsc\u001b[39;49m\u001b[39m\"\u001b[39;49m, \u001b[39m\"\u001b[39;49m\u001b[39mcoo\u001b[39;49m\u001b[39m\"\u001b[39;49m], reset\u001b[39m=\u001b[39;49m\u001b[39mFalse\u001b[39;49;00m)\n\u001b[1;32m    370\u001b[0m     \u001b[39mreturn\u001b[39;00m safe_sparse_dot(X, \u001b[39mself\u001b[39m\u001b[39m.\u001b[39mcoef_\u001b[39m.\u001b[39mT, dense_output\u001b[39m=\u001b[39m\u001b[39mTrue\u001b[39;00m) \u001b[39m+\u001b[39m \u001b[39mself\u001b[39m\u001b[39m.\u001b[39mintercept_\n",
      "File \u001b[0;32m~/anaconda3/envs/challenge2/lib/python3.8/site-packages/sklearn/base.py:604\u001b[0m, in \u001b[0;36mBaseEstimator._validate_data\u001b[0;34m(self, X, y, reset, validate_separately, cast_to_ndarray, **check_params)\u001b[0m\n\u001b[1;32m    602\u001b[0m         out \u001b[39m=\u001b[39m X, y\n\u001b[1;32m    603\u001b[0m \u001b[39melif\u001b[39;00m \u001b[39mnot\u001b[39;00m no_val_X \u001b[39mand\u001b[39;00m no_val_y:\n\u001b[0;32m--> 604\u001b[0m     out \u001b[39m=\u001b[39m check_array(X, input_name\u001b[39m=\u001b[39;49m\u001b[39m\"\u001b[39;49m\u001b[39mX\u001b[39;49m\u001b[39m\"\u001b[39;49m, \u001b[39m*\u001b[39;49m\u001b[39m*\u001b[39;49mcheck_params)\n\u001b[1;32m    605\u001b[0m \u001b[39melif\u001b[39;00m no_val_X \u001b[39mand\u001b[39;00m \u001b[39mnot\u001b[39;00m no_val_y:\n\u001b[1;32m    606\u001b[0m     out \u001b[39m=\u001b[39m _check_y(y, \u001b[39m*\u001b[39m\u001b[39m*\u001b[39mcheck_params)\n",
      "File \u001b[0;32m~/anaconda3/envs/challenge2/lib/python3.8/site-packages/sklearn/utils/validation.py:959\u001b[0m, in \u001b[0;36mcheck_array\u001b[0;34m(array, accept_sparse, accept_large_sparse, dtype, order, copy, force_all_finite, ensure_2d, allow_nd, ensure_min_samples, ensure_min_features, estimator, input_name)\u001b[0m\n\u001b[1;32m    953\u001b[0m         \u001b[39mraise\u001b[39;00m \u001b[39mValueError\u001b[39;00m(\n\u001b[1;32m    954\u001b[0m             \u001b[39m\"\u001b[39m\u001b[39mFound array with dim \u001b[39m\u001b[39m%d\u001b[39;00m\u001b[39m. \u001b[39m\u001b[39m%s\u001b[39;00m\u001b[39m expected <= 2.\u001b[39m\u001b[39m\"\u001b[39m\n\u001b[1;32m    955\u001b[0m             \u001b[39m%\u001b[39m (array\u001b[39m.\u001b[39mndim, estimator_name)\n\u001b[1;32m    956\u001b[0m         )\n\u001b[1;32m    958\u001b[0m     \u001b[39mif\u001b[39;00m force_all_finite:\n\u001b[0;32m--> 959\u001b[0m         _assert_all_finite(\n\u001b[1;32m    960\u001b[0m             array,\n\u001b[1;32m    961\u001b[0m             input_name\u001b[39m=\u001b[39;49minput_name,\n\u001b[1;32m    962\u001b[0m             estimator_name\u001b[39m=\u001b[39;49mestimator_name,\n\u001b[1;32m    963\u001b[0m             allow_nan\u001b[39m=\u001b[39;49mforce_all_finite \u001b[39m==\u001b[39;49m \u001b[39m\"\u001b[39;49m\u001b[39mallow-nan\u001b[39;49m\u001b[39m\"\u001b[39;49m,\n\u001b[1;32m    964\u001b[0m         )\n\u001b[1;32m    966\u001b[0m \u001b[39mif\u001b[39;00m ensure_min_samples \u001b[39m>\u001b[39m \u001b[39m0\u001b[39m:\n\u001b[1;32m    967\u001b[0m     n_samples \u001b[39m=\u001b[39m _num_samples(array)\n",
      "File \u001b[0;32m~/anaconda3/envs/challenge2/lib/python3.8/site-packages/sklearn/utils/validation.py:124\u001b[0m, in \u001b[0;36m_assert_all_finite\u001b[0;34m(X, allow_nan, msg_dtype, estimator_name, input_name)\u001b[0m\n\u001b[1;32m    121\u001b[0m \u001b[39mif\u001b[39;00m first_pass_isfinite:\n\u001b[1;32m    122\u001b[0m     \u001b[39mreturn\u001b[39;00m\n\u001b[0;32m--> 124\u001b[0m _assert_all_finite_element_wise(\n\u001b[1;32m    125\u001b[0m     X,\n\u001b[1;32m    126\u001b[0m     xp\u001b[39m=\u001b[39;49mxp,\n\u001b[1;32m    127\u001b[0m     allow_nan\u001b[39m=\u001b[39;49mallow_nan,\n\u001b[1;32m    128\u001b[0m     msg_dtype\u001b[39m=\u001b[39;49mmsg_dtype,\n\u001b[1;32m    129\u001b[0m     estimator_name\u001b[39m=\u001b[39;49mestimator_name,\n\u001b[1;32m    130\u001b[0m     input_name\u001b[39m=\u001b[39;49minput_name,\n\u001b[1;32m    131\u001b[0m )\n",
      "File \u001b[0;32m~/anaconda3/envs/challenge2/lib/python3.8/site-packages/sklearn/utils/validation.py:173\u001b[0m, in \u001b[0;36m_assert_all_finite_element_wise\u001b[0;34m(X, xp, allow_nan, msg_dtype, estimator_name, input_name)\u001b[0m\n\u001b[1;32m    156\u001b[0m \u001b[39mif\u001b[39;00m estimator_name \u001b[39mand\u001b[39;00m input_name \u001b[39m==\u001b[39m \u001b[39m\"\u001b[39m\u001b[39mX\u001b[39m\u001b[39m\"\u001b[39m \u001b[39mand\u001b[39;00m has_nan_error:\n\u001b[1;32m    157\u001b[0m     \u001b[39m# Improve the error message on how to handle missing values in\u001b[39;00m\n\u001b[1;32m    158\u001b[0m     \u001b[39m# scikit-learn.\u001b[39;00m\n\u001b[1;32m    159\u001b[0m     msg_err \u001b[39m+\u001b[39m\u001b[39m=\u001b[39m (\n\u001b[1;32m    160\u001b[0m         \u001b[39mf\u001b[39m\u001b[39m\"\u001b[39m\u001b[39m\\n\u001b[39;00m\u001b[39m{\u001b[39;00mestimator_name\u001b[39m}\u001b[39;00m\u001b[39m does not accept missing values\u001b[39m\u001b[39m\"\u001b[39m\n\u001b[1;32m    161\u001b[0m         \u001b[39m\"\u001b[39m\u001b[39m encoded as NaN natively. For supervised learning, you might want\u001b[39m\u001b[39m\"\u001b[39m\n\u001b[0;32m   (...)\u001b[0m\n\u001b[1;32m    171\u001b[0m         \u001b[39m\"\u001b[39m\u001b[39m#estimators-that-handle-nan-values\u001b[39m\u001b[39m\"\u001b[39m\n\u001b[1;32m    172\u001b[0m     )\n\u001b[0;32m--> 173\u001b[0m \u001b[39mraise\u001b[39;00m \u001b[39mValueError\u001b[39;00m(msg_err)\n",
      "\u001b[0;31mValueError\u001b[0m: Input X contains NaN.\nLinearRegression does not accept missing values encoded as NaN natively. For supervised learning, you might want to consider sklearn.ensemble.HistGradientBoostingClassifier and Regressor which accept missing values encoded as NaNs natively. Alternatively, it is possible to preprocess the data, for instance by using an imputer transformer in a pipeline or drop samples with missing values. See https://scikit-learn.org/stable/modules/impute.html You can find a list of all estimators that handle NaN values at the following page: https://scikit-learn.org/stable/modules/impute.html#estimators-that-handle-nan-values"
     ]
    },
    {
     "data": {
      "image/png": "[encoded data removed]",
      "text/plain": [
       "<Figure size 640x480 with 1 Axes>"
      ]
     },
     "metadata": {},
     "output_type": "display_data"
    }
   ],
   "source": [
    "\"\"\" Visualize \"\"\"\n",
    "import matplotlib.pyplot as plt\n",
    "# visualize the training set results\n",
    "plt.scatter(train_df[\"1stFlrSF\"], y_train_df, color='red')\n",
    "plt.plot(train_df[\"1stFlrSF\"], regressor.predict(train_df), color='blue')\n",
    "plt.title('Environment vs SalesPrice (trainning set)')\n",
    "plt.xlabel(\"Environment\")\n",
    "plt.ylabel(\"Sales Price\")\n",
    "plt.show()\n",
    "\n",
    "# visualize the test set results\n",
    "plt.scatter(test_df[\"1stFlrSF\"], y_test_df, color='red')\n",
    "plt.plot(test_df[\"1stFlrSF\"], regressor.predict(test_df), color='blue')\n",
    "plt.title('Environment vs SalesPrice (test set)')\n",
    "plt.xlabel(\"Environment\")\n",
    "plt.ylabel(\"Sales Price\")\n",
    "plt.show()"
   ]
  }
 ],
 "metadata": {
  "kernelspec": {
   "display_name": "challenge2",
   "language": "python",
   "name": "python3"
  },
  "language_info": {
   "codemirror_mode": {
    "name": "ipython",
    "version": 3
   },
   "file_extension": ".py",
   "mimetype": "text/x-python",
   "name": "python",
   "nbconvert_exporter": "python",
   "pygments_lexer": "ipython3",
   "version": "3.8.18"
  }
 },
 "nbformat": 4,
 "nbformat_minor": 2
}
